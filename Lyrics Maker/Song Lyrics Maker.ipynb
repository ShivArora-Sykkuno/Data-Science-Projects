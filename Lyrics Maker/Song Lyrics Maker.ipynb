{
 "cells": [
  {
   "cell_type": "code",
   "execution_count": 1,
   "id": "426ea96d",
   "metadata": {},
   "outputs": [],
   "source": [
    "import tensorflow as tf"
   ]
  },
  {
   "cell_type": "code",
   "execution_count": 129,
   "id": "20dc3486",
   "metadata": {},
   "outputs": [
    {
     "data": {
      "text/html": [
       "<div>\n",
       "<style scoped>\n",
       "    .dataframe tbody tr th:only-of-type {\n",
       "        vertical-align: middle;\n",
       "    }\n",
       "\n",
       "    .dataframe tbody tr th {\n",
       "        vertical-align: top;\n",
       "    }\n",
       "\n",
       "    .dataframe thead th {\n",
       "        text-align: right;\n",
       "    }\n",
       "</style>\n",
       "<table border=\"1\" class=\"dataframe\">\n",
       "  <thead>\n",
       "    <tr style=\"text-align: right;\">\n",
       "      <th></th>\n",
       "      <th>ALink</th>\n",
       "      <th>SName</th>\n",
       "      <th>SLink</th>\n",
       "      <th>Lyric</th>\n",
       "      <th>language</th>\n",
       "    </tr>\n",
       "  </thead>\n",
       "  <tbody>\n",
       "    <tr>\n",
       "      <th>0</th>\n",
       "      <td>/ivete-sangalo/</td>\n",
       "      <td>Arerê</td>\n",
       "      <td>/ivete-sangalo/arere.html</td>\n",
       "      <td>Tudo o que eu quero nessa vida,\\nToda vida, é\\...</td>\n",
       "      <td>pt</td>\n",
       "    </tr>\n",
       "    <tr>\n",
       "      <th>1</th>\n",
       "      <td>/ivete-sangalo/</td>\n",
       "      <td>Se Eu Não Te Amasse Tanto Assim</td>\n",
       "      <td>/ivete-sangalo/se-eu-nao-te-amasse-tanto-assim...</td>\n",
       "      <td>Meu coração\\nSem direção\\nVoando só por voar\\n...</td>\n",
       "      <td>pt</td>\n",
       "    </tr>\n",
       "    <tr>\n",
       "      <th>2</th>\n",
       "      <td>/ivete-sangalo/</td>\n",
       "      <td>Céu da Boca</td>\n",
       "      <td>/ivete-sangalo/chupa-toda.html</td>\n",
       "      <td>É de babaixá!\\nÉ de balacubaca!\\nÉ de babaixá!...</td>\n",
       "      <td>pt</td>\n",
       "    </tr>\n",
       "    <tr>\n",
       "      <th>3</th>\n",
       "      <td>/ivete-sangalo/</td>\n",
       "      <td>Quando A Chuva Passar</td>\n",
       "      <td>/ivete-sangalo/quando-a-chuva-passar.html</td>\n",
       "      <td>Quando a chuva passar\\n\\nPra quê falar\\nSe voc...</td>\n",
       "      <td>pt</td>\n",
       "    </tr>\n",
       "    <tr>\n",
       "      <th>4</th>\n",
       "      <td>/ivete-sangalo/</td>\n",
       "      <td>Sorte Grande</td>\n",
       "      <td>/ivete-sangalo/sorte-grande.html</td>\n",
       "      <td>A minha sorte grande foi você cair do céu\\nMin...</td>\n",
       "      <td>pt</td>\n",
       "    </tr>\n",
       "  </tbody>\n",
       "</table>\n",
       "</div>"
      ],
      "text/plain": [
       "             ALink                            SName  \\\n",
       "0  /ivete-sangalo/                            Arerê   \n",
       "1  /ivete-sangalo/  Se Eu Não Te Amasse Tanto Assim   \n",
       "2  /ivete-sangalo/                      Céu da Boca   \n",
       "3  /ivete-sangalo/            Quando A Chuva Passar   \n",
       "4  /ivete-sangalo/                     Sorte Grande   \n",
       "\n",
       "                                               SLink  \\\n",
       "0                          /ivete-sangalo/arere.html   \n",
       "1  /ivete-sangalo/se-eu-nao-te-amasse-tanto-assim...   \n",
       "2                     /ivete-sangalo/chupa-toda.html   \n",
       "3          /ivete-sangalo/quando-a-chuva-passar.html   \n",
       "4                   /ivete-sangalo/sorte-grande.html   \n",
       "\n",
       "                                               Lyric language  \n",
       "0  Tudo o que eu quero nessa vida,\\nToda vida, é\\...       pt  \n",
       "1  Meu coração\\nSem direção\\nVoando só por voar\\n...       pt  \n",
       "2  É de babaixá!\\nÉ de balacubaca!\\nÉ de babaixá!...       pt  \n",
       "3  Quando a chuva passar\\n\\nPra quê falar\\nSe voc...       pt  \n",
       "4  A minha sorte grande foi você cair do céu\\nMin...       pt  "
      ]
     },
     "execution_count": 129,
     "metadata": {},
     "output_type": "execute_result"
    }
   ],
   "source": [
    "import pandas as pd\n",
    "\n",
    "df = pd.read_csv(\"data/songs/lyrics-data.csv\")\n",
    "df.head()"
   ]
  },
  {
   "cell_type": "code",
   "execution_count": 130,
   "id": "202351d5",
   "metadata": {},
   "outputs": [
    {
     "data": {
      "text/html": [
       "<div>\n",
       "<style scoped>\n",
       "    .dataframe tbody tr th:only-of-type {\n",
       "        vertical-align: middle;\n",
       "    }\n",
       "\n",
       "    .dataframe tbody tr th {\n",
       "        vertical-align: top;\n",
       "    }\n",
       "\n",
       "    .dataframe thead th {\n",
       "        text-align: right;\n",
       "    }\n",
       "</style>\n",
       "<table border=\"1\" class=\"dataframe\">\n",
       "  <thead>\n",
       "    <tr style=\"text-align: right;\">\n",
       "      <th></th>\n",
       "      <th>Lyric</th>\n",
       "      <th>language</th>\n",
       "    </tr>\n",
       "  </thead>\n",
       "  <tbody>\n",
       "    <tr>\n",
       "      <th>0</th>\n",
       "      <td>Tudo o que eu quero nessa vida,\\nToda vida, é\\...</td>\n",
       "      <td>pt</td>\n",
       "    </tr>\n",
       "    <tr>\n",
       "      <th>1</th>\n",
       "      <td>Meu coração\\nSem direção\\nVoando só por voar\\n...</td>\n",
       "      <td>pt</td>\n",
       "    </tr>\n",
       "    <tr>\n",
       "      <th>2</th>\n",
       "      <td>É de babaixá!\\nÉ de balacubaca!\\nÉ de babaixá!...</td>\n",
       "      <td>pt</td>\n",
       "    </tr>\n",
       "    <tr>\n",
       "      <th>3</th>\n",
       "      <td>Quando a chuva passar\\n\\nPra quê falar\\nSe voc...</td>\n",
       "      <td>pt</td>\n",
       "    </tr>\n",
       "    <tr>\n",
       "      <th>4</th>\n",
       "      <td>A minha sorte grande foi você cair do céu\\nMin...</td>\n",
       "      <td>pt</td>\n",
       "    </tr>\n",
       "  </tbody>\n",
       "</table>\n",
       "</div>"
      ],
      "text/plain": [
       "                                               Lyric language\n",
       "0  Tudo o que eu quero nessa vida,\\nToda vida, é\\...       pt\n",
       "1  Meu coração\\nSem direção\\nVoando só por voar\\n...       pt\n",
       "2  É de babaixá!\\nÉ de balacubaca!\\nÉ de babaixá!...       pt\n",
       "3  Quando a chuva passar\\n\\nPra quê falar\\nSe voc...       pt\n",
       "4  A minha sorte grande foi você cair do céu\\nMin...       pt"
      ]
     },
     "execution_count": 130,
     "metadata": {},
     "output_type": "execute_result"
    }
   ],
   "source": [
    "df.drop(['ALink','SName','SLink'],axis=1,inplace=True)\n",
    "df.head()"
   ]
  },
  {
   "cell_type": "code",
   "execution_count": 131,
   "id": "a0c1591d",
   "metadata": {},
   "outputs": [
    {
     "data": {
      "text/plain": [
       "(379931, 2)"
      ]
     },
     "execution_count": 131,
     "metadata": {},
     "output_type": "execute_result"
    }
   ],
   "source": [
    "df.shape"
   ]
  },
  {
   "cell_type": "code",
   "execution_count": 132,
   "id": "2459e6ad",
   "metadata": {},
   "outputs": [
    {
     "data": {
      "text/plain": [
       "en     191814\n",
       "pt     157393\n",
       "es       9917\n",
       "rw       1679\n",
       "it       1432\n",
       "fr       1225\n",
       "de        844\n",
       "fi        145\n",
       "sv        112\n",
       "ro         97\n",
       "no         89\n",
       "is         86\n",
       "tl         69\n",
       "pl         47\n",
       "gl         36\n",
       "ga         32\n",
       "tr         32\n",
       "id         26\n",
       "cy         23\n",
       "su         19\n",
       "af         19\n",
       "sw         19\n",
       "ko         17\n",
       "nl         14\n",
       "da         13\n",
       "ca         13\n",
       "et         13\n",
       "ms          8\n",
       "ja          7\n",
       "st          7\n",
       "ht          5\n",
       "gd          4\n",
       "ru          4\n",
       "ar          4\n",
       "eu          4\n",
       "cs          3\n",
       "ku          3\n",
       "ny          3\n",
       "mg          3\n",
       "lg          2\n",
       "jw          2\n",
       "hu          2\n",
       "vi          1\n",
       "iw          1\n",
       "sr          1\n",
       "hmn         1\n",
       "hr          1\n",
       "fa          1\n",
       "sq          1\n",
       "zh          1\n",
       "lv          1\n",
       "sl          1\n",
       "Name: language, dtype: int64"
      ]
     },
     "execution_count": 132,
     "metadata": {},
     "output_type": "execute_result"
    }
   ],
   "source": [
    "df[\"language\"].value_counts()"
   ]
  },
  {
   "cell_type": "code",
   "execution_count": 133,
   "id": "567dda9f",
   "metadata": {},
   "outputs": [],
   "source": [
    "# Building a model for only english songs\n",
    "df = df[df[\"language\"] == \"en\"]"
   ]
  },
  {
   "cell_type": "code",
   "execution_count": 134,
   "id": "35d8fbc6",
   "metadata": {},
   "outputs": [
    {
     "data": {
      "text/plain": [
       "(1000, 2)"
      ]
     },
     "execution_count": 134,
     "metadata": {},
     "output_type": "execute_result"
    }
   ],
   "source": [
    "# Taking only 1000 inputs for speed purposes\n",
    "df = df[:1000]\n",
    "df.shape"
   ]
  },
  {
   "cell_type": "code",
   "execution_count": 135,
   "id": "c15f9299",
   "metadata": {},
   "outputs": [
    {
     "data": {
      "text/html": [
       "<div>\n",
       "<style scoped>\n",
       "    .dataframe tbody tr th:only-of-type {\n",
       "        vertical-align: middle;\n",
       "    }\n",
       "\n",
       "    .dataframe tbody tr th {\n",
       "        vertical-align: top;\n",
       "    }\n",
       "\n",
       "    .dataframe thead th {\n",
       "        text-align: right;\n",
       "    }\n",
       "</style>\n",
       "<table border=\"1\" class=\"dataframe\">\n",
       "  <thead>\n",
       "    <tr style=\"text-align: right;\">\n",
       "      <th></th>\n",
       "      <th>Lyric</th>\n",
       "      <th>language</th>\n",
       "      <th>Number_of_words</th>\n",
       "    </tr>\n",
       "  </thead>\n",
       "  <tbody>\n",
       "    <tr>\n",
       "      <th>69</th>\n",
       "      <td>I feel so unsure\\nAs I take your hand and lead...</td>\n",
       "      <td>en</td>\n",
       "      <td>299</td>\n",
       "    </tr>\n",
       "    <tr>\n",
       "      <th>86</th>\n",
       "      <td>Don't let them fool, ya\\nOr even try to school...</td>\n",
       "      <td>en</td>\n",
       "      <td>161</td>\n",
       "    </tr>\n",
       "    <tr>\n",
       "      <th>88</th>\n",
       "      <td>Baby, let's cruise, away from here\\nDon't be c...</td>\n",
       "      <td>en</td>\n",
       "      <td>159</td>\n",
       "    </tr>\n",
       "    <tr>\n",
       "      <th>111</th>\n",
       "      <td>Know it sounds funny\\nBut, I just can't stand ...</td>\n",
       "      <td>en</td>\n",
       "      <td>175</td>\n",
       "    </tr>\n",
       "    <tr>\n",
       "      <th>140</th>\n",
       "      <td>You've got that look again\\nThe one I hoped I ...</td>\n",
       "      <td>en</td>\n",
       "      <td>215</td>\n",
       "    </tr>\n",
       "  </tbody>\n",
       "</table>\n",
       "</div>"
      ],
      "text/plain": [
       "                                                 Lyric language  \\\n",
       "69   I feel so unsure\\nAs I take your hand and lead...       en   \n",
       "86   Don't let them fool, ya\\nOr even try to school...       en   \n",
       "88   Baby, let's cruise, away from here\\nDon't be c...       en   \n",
       "111  Know it sounds funny\\nBut, I just can't stand ...       en   \n",
       "140  You've got that look again\\nThe one I hoped I ...       en   \n",
       "\n",
       "     Number_of_words  \n",
       "69               299  \n",
       "86               161  \n",
       "88               159  \n",
       "111              175  \n",
       "140              215  "
      ]
     },
     "execution_count": 135,
     "metadata": {},
     "output_type": "execute_result"
    }
   ],
   "source": [
    "df['Number_of_words'] = df['Lyric'].apply(lambda x:len(str(x).split()))\n",
    "df.head()"
   ]
  },
  {
   "cell_type": "code",
   "execution_count": 136,
   "id": "c2fc7e87",
   "metadata": {},
   "outputs": [
    {
     "data": {
      "text/plain": [
       "count    1000.000000\n",
       "mean      434.681000\n",
       "std       199.590394\n",
       "min         8.000000\n",
       "25%       293.000000\n",
       "50%       419.000000\n",
       "75%       548.000000\n",
       "max      1495.000000\n",
       "Name: Number_of_words, dtype: float64"
      ]
     },
     "execution_count": 136,
     "metadata": {},
     "output_type": "execute_result"
    }
   ],
   "source": [
    "df['Number_of_words'].describe()"
   ]
  },
  {
   "cell_type": "code",
   "execution_count": 137,
   "id": "55bc6110",
   "metadata": {
    "scrolled": false
   },
   "outputs": [
    {
     "data": {
      "text/plain": [
       "Text(0.5, 1.0, 'Frequency distribution of number of words for each text extracted')"
      ]
     },
     "execution_count": 137,
     "metadata": {},
     "output_type": "execute_result"
    },
    {
     "data": {
      "image/png": "[encoded data removed]",
      "text/plain": [
       "<Figure size 1200x600 with 1 Axes>"
      ]
     },
     "metadata": {},
     "output_type": "display_data"
    }
   ],
   "source": [
    "import matplotlib.pyplot as plt\n",
    "import seaborn as sns\n",
    "\n",
    "plt.style.use('ggplot')\n",
    "plt.figure(figsize=(12,6))\n",
    "sns.histplot(df['Number_of_words'],kde = False,color=\"blue\",bins=500)\n",
    "plt.title(\"Frequency distribution of number of words for each text extracted\", size=15)"
   ]
  },
  {
   "cell_type": "code",
   "execution_count": 113,
   "id": "abd8da17",
   "metadata": {
    "scrolled": true
   },
   "outputs": [
    {
     "data": {
      "text/plain": [
       "[3,\n",
       " 56,\n",
       " 24,\n",
       " 259,\n",
       " 187,\n",
       " 3,\n",
       " 71,\n",
       " 15,\n",
       " 260,\n",
       " 13,\n",
       " 261,\n",
       " 1,\n",
       " 4,\n",
       " 2,\n",
       " 57,\n",
       " 262,\n",
       " 187,\n",
       " 2,\n",
       " 58,\n",
       " 263,\n",
       " 188,\n",
       " 16,\n",
       " 15,\n",
       " 117,\n",
       " 264,\n",
       " 4,\n",
       " 95,\n",
       " 19,\n",
       " 265,\n",
       " 266,\n",
       " 13,\n",
       " 50,\n",
       " 145,\n",
       " 267,\n",
       " 268,\n",
       " 9,\n",
       " 32,\n",
       " 41,\n",
       " 57,\n",
       " 20,\n",
       " 146,\n",
       " 147,\n",
       " 51,\n",
       " 42,\n",
       " 52,\n",
       " 148,\n",
       " 118,\n",
       " 37,\n",
       " 17,\n",
       " 4,\n",
       " 149,\n",
       " 3,\n",
       " 33,\n",
       " 43,\n",
       " 59,\n",
       " 19,\n",
       " 119,\n",
       " 150,\n",
       " 151,\n",
       " 120,\n",
       " 44,\n",
       " 4,\n",
       " 152,\n",
       " 19,\n",
       " 121,\n",
       " 13,\n",
       " 153,\n",
       " 2,\n",
       " 154,\n",
       " 5,\n",
       " 83,\n",
       " 96,\n",
       " 155,\n",
       " 24,\n",
       " 9,\n",
       " 32,\n",
       " 41,\n",
       " 57,\n",
       " 20,\n",
       " 2,\n",
       " 21,\n",
       " 3,\n",
       " 156,\n",
       " 72,\n",
       " 1,\n",
       " 97,\n",
       " 157,\n",
       " 32,\n",
       " 269,\n",
       " 2,\n",
       " 270,\n",
       " 271,\n",
       " 18,\n",
       " 19,\n",
       " 189,\n",
       " 121,\n",
       " 4,\n",
       " 2,\n",
       " 122,\n",
       " 13,\n",
       " 95,\n",
       " 272,\n",
       " 12,\n",
       " 273,\n",
       " 190,\n",
       " 52,\n",
       " 274,\n",
       " 16,\n",
       " 2,\n",
       " 275,\n",
       " 98,\n",
       " 12,\n",
       " 50,\n",
       " 191,\n",
       " 158,\n",
       " 9,\n",
       " 32,\n",
       " 41,\n",
       " 57,\n",
       " 20,\n",
       " 146,\n",
       " 147,\n",
       " 51,\n",
       " 42,\n",
       " 52,\n",
       " 148,\n",
       " 118,\n",
       " 37,\n",
       " 17,\n",
       " 4,\n",
       " 149,\n",
       " 3,\n",
       " 33,\n",
       " 43,\n",
       " 59,\n",
       " 19,\n",
       " 119,\n",
       " 150,\n",
       " 151,\n",
       " 120,\n",
       " 44,\n",
       " 4,\n",
       " 152,\n",
       " 19,\n",
       " 121,\n",
       " 13,\n",
       " 153,\n",
       " 53,\n",
       " 154,\n",
       " 5,\n",
       " 83,\n",
       " 96,\n",
       " 155,\n",
       " 24,\n",
       " 9,\n",
       " 32,\n",
       " 41,\n",
       " 57,\n",
       " 20,\n",
       " 2,\n",
       " 21,\n",
       " 3,\n",
       " 156,\n",
       " 72,\n",
       " 1,\n",
       " 32,\n",
       " 276,\n",
       " 15,\n",
       " 22,\n",
       " 123,\n",
       " 2,\n",
       " 58,\n",
       " 192,\n",
       " 24,\n",
       " 277,\n",
       " 3,\n",
       " 278,\n",
       " 5,\n",
       " 25,\n",
       " 45,\n",
       " 159,\n",
       " 53,\n",
       " 279,\n",
       " 280,\n",
       " 37,\n",
       " 120,\n",
       " 53,\n",
       " 21,\n",
       " 193,\n",
       " 281,\n",
       " 194,\n",
       " 195,\n",
       " 72,\n",
       " 2,\n",
       " 65,\n",
       " 193,\n",
       " 66,\n",
       " 4,\n",
       " 28,\n",
       " 25,\n",
       " 45,\n",
       " 51,\n",
       " 96,\n",
       " 24,\n",
       " 189,\n",
       " 99,\n",
       " 25,\n",
       " 45,\n",
       " 51,\n",
       " 282,\n",
       " 53,\n",
       " 57,\n",
       " 196,\n",
       " 54,\n",
       " 84,\n",
       " 283,\n",
       " 41,\n",
       " 57,\n",
       " 72,\n",
       " 10,\n",
       " 284,\n",
       " 197,\n",
       " 13,\n",
       " 9,\n",
       " 32,\n",
       " 41,\n",
       " 57,\n",
       " 20,\n",
       " 146,\n",
       " 147,\n",
       " 51,\n",
       " 42,\n",
       " 52,\n",
       " 148,\n",
       " 118,\n",
       " 37,\n",
       " 17,\n",
       " 4,\n",
       " 149,\n",
       " 3,\n",
       " 33,\n",
       " 43,\n",
       " 59,\n",
       " 19,\n",
       " 119,\n",
       " 150,\n",
       " 151,\n",
       " 120,\n",
       " 44,\n",
       " 4,\n",
       " 152,\n",
       " 19,\n",
       " 121,\n",
       " 13,\n",
       " 153,\n",
       " 2,\n",
       " 154,\n",
       " 5,\n",
       " 83,\n",
       " 96,\n",
       " 155,\n",
       " 24,\n",
       " 9,\n",
       " 32,\n",
       " 41,\n",
       " 57,\n",
       " 20,\n",
       " 2,\n",
       " 21,\n",
       " 3,\n",
       " 156,\n",
       " 72,\n",
       " 1,\n",
       " 84,\n",
       " 5,\n",
       " 43,\n",
       " 160,\n",
       " 84,\n",
       " 5,\n",
       " 43,\n",
       " 160,\n",
       " 84,\n",
       " 5,\n",
       " 43,\n",
       " 160,\n",
       " 29,\n",
       " 3,\n",
       " 285,\n",
       " 24,\n",
       " 100,\n",
       " 24,\n",
       " 100,\n",
       " 5,\n",
       " 1,\n",
       " 124,\n",
       " 4,\n",
       " 101,\n",
       " 10,\n",
       " 125]"
      ]
     },
     "execution_count": 113,
     "metadata": {},
     "output_type": "execute_result"
    }
   ],
   "source": [
    "from tensorflow.keras.preprocessing.text import Tokenizer\n",
    "\n",
    "tokenizer = Tokenizer()\n",
    "tokenizer.fit_on_texts(df['Lyric'].astype(str).str.lower())\n",
    "\n",
    "total_words = len(tokenizer.word_index)+1\n",
    "tokenized_sentences = tokenizer.texts_to_sequences(df['Lyric'].astype(str))\n",
    "tokenized_sentences[0]"
   ]
  },
  {
   "cell_type": "code",
   "execution_count": 114,
   "id": "b9abe730",
   "metadata": {},
   "outputs": [],
   "source": [
    "from tensorflow.keras.preprocessing.sequence import pad_sequences\n",
    "import numpy as np\n",
    "\n",
    "input_sequences = list()\n",
    "for i in tokenized_sentences:\n",
    "    for t in range(1, len(i)):\n",
    "        n_gram_sequence = i[:t+1]\n",
    "        input_sequences.append(n_gram_sequence)\n",
    "        \n",
    "\n",
    "max_sequence_len = max([len(x) for x in input_sequences])\n",
    "input_sequences = np.array(pad_sequences(input_sequences, maxlen=max_sequence_len, padding='pre'))"
   ]
  },
  {
   "cell_type": "code",
   "execution_count": 115,
   "id": "ce2f90c7",
   "metadata": {},
   "outputs": [
    {
     "data": {
      "text/plain": [
       "array([[  0,   0,   0, ...,   0,   3,  56],\n",
       "       [  0,   0,   0, ...,   3,  56,  24],\n",
       "       [  0,   0,   0, ...,  56,  24, 259],\n",
       "       ...,\n",
       "       [  0,   0,   0, ...,  71,  15, 260],\n",
       "       [  0,   0,   0, ...,  15, 260,  13],\n",
       "       [  0,   0,   0, ..., 260,  13, 261]])"
      ]
     },
     "execution_count": 115,
     "metadata": {},
     "output_type": "execute_result"
    }
   ],
   "source": [
    "input_sequences[:10]"
   ]
  },
  {
   "cell_type": "code",
   "execution_count": 116,
   "id": "90c82193",
   "metadata": {},
   "outputs": [],
   "source": [
    "X = input_sequences[:,:-1]\n",
    "Y = input_sequences[:,-1]"
   ]
  },
  {
   "cell_type": "code",
   "execution_count": 118,
   "id": "1f5b0332",
   "metadata": {},
   "outputs": [],
   "source": [
    "from tensorflow.keras.callbacks import EarlyStopping\n",
    "\n",
    "model = tf.keras.Sequential([\n",
    "    tf.keras.layers.Embedding(total_words, 40, input_length=max_sequence_len-1),\n",
    "    tf.keras.layers.Bidirectional(tf.keras.layers.LSTM(250)),\n",
    "    tf.keras.layers.Dropout(0.1),\n",
    "    tf.keras.layers.Dense(total_words, activation='softmax'),\n",
    "])\n",
    "\n",
    "\n",
    "model.compile(loss=tf.keras.losses.sparse_categorical_crossentropy,\n",
    "              optimizer=tf.keras.optimizers.Adam(learning_rate=0.01),\n",
    "              metrics=['accuracy'])\n",
    "\n",
    "earlystop = EarlyStopping(monitor='loss',\n",
    "                          min_delta=0,\n",
    "                          patience=5, \n",
    "                          verbose=0,\n",
    "                          mode='auto')\n",
    "\n",
    "history = model.fit(X, Y,\n",
    "          epochs=20,\n",
    "          callbacks=[earlystop], verbose=0)"
   ]
  },
  {
   "cell_type": "code",
   "execution_count": 119,
   "id": "bddc3e22",
   "metadata": {},
   "outputs": [
    {
     "data": {
      "image/png": "[encoded data removed]",
      "text/plain": [
       "<Figure size 640x480 with 1 Axes>"
      ]
     },
     "metadata": {},
     "output_type": "display_data"
    },
    {
     "data": {
      "text/plain": [
       "<Figure size 640x480 with 0 Axes>"
      ]
     },
     "metadata": {},
     "output_type": "display_data"
    }
   ],
   "source": [
    "plt.plot(history.history['accuracy'], label='train acc')\n",
    "plt.legend()\n",
    "plt.show()\n",
    "plt.savefig('AccVal_acc')"
   ]
  },
  {
   "cell_type": "code",
   "execution_count": 138,
   "id": "3f35309c",
   "metadata": {},
   "outputs": [],
   "source": [
    "def song_writer(input_text, next_words):\n",
    "    for _ in range(next_words):\n",
    "        token_list = tokenizer.texts_to_sequences([input_text])[0]\n",
    "        token_list = pad_sequences([token_list], maxlen=max_sequence_len-1, padding='pre')\n",
    "        predicted = np.argmax(model.predict(token_list, verbose=0), axis=-1)\n",
    "        \n",
    "        output_word = \"\"\n",
    "        for word, index in tokenizer.word_index.items():\n",
    "            if index == predicted:\n",
    "                output_word = word\n",
    "                break\n",
    "        input_text += \" \" + output_word\n",
    "    return input_text"
   ]
  },
  {
   "cell_type": "code",
   "execution_count": 122,
   "id": "97fc3708",
   "metadata": {},
   "outputs": [
    {
     "data": {
      "text/plain": [
       "\"This is my life to school ya oh no we've got a mind of our own so go to hell if what you re thinking is not right love would never leave us alone\""
      ]
     },
     "execution_count": 122,
     "metadata": {},
     "output_type": "execute_result"
    }
   ],
   "source": [
    "song_writer(\"This is my life\", 30)"
   ]
  },
  {
   "cell_type": "code",
   "execution_count": 128,
   "id": "776ef2ad",
   "metadata": {},
   "outputs": [
    {
     "data": {
      "text/plain": [
       "\"This is the beginning world has changed the years spent before seem more cloudy than blue in many ways your baby's controlling when you haven't laid down for days for the poor no time to be thinking they're too busy finding ways and i you know i'd do most anything you want hey i\""
      ]
     },
     "execution_count": 128,
     "metadata": {},
     "output_type": "execute_result"
    }
   ],
   "source": [
    "song_writer(\"This is the beginning\", 50)"
   ]
  },
  {
   "cell_type": "code",
   "execution_count": null,
   "id": "a2a4a626",
   "metadata": {},
   "outputs": [],
   "source": []
  }
 ],
 "metadata": {
  "kernelspec": {
   "display_name": "Python 3 (ipykernel)",
   "language": "python",
   "name": "python3"
  },
  "language_info": {
   "codemirror_mode": {
    "name": "ipython",
    "version": 3
   },
   "file_extension": ".py",
   "mimetype": "text/x-python",
   "name": "python",
   "nbconvert_exporter": "python",
   "pygments_lexer": "ipython3",
   "version": "3.9.13"
  }
 },
 "nbformat": 4,
 "nbformat_minor": 5
}
