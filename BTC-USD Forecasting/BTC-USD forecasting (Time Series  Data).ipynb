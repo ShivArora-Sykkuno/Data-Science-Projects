{
 "cells": [
  {
   "cell_type": "code",
   "execution_count": 1,
   "id": "7c9add34",
   "metadata": {},
   "outputs": [],
   "source": [
    "import tensorflow as tf"
   ]
  },
  {
   "cell_type": "code",
   "execution_count": 2,
   "id": "9a2268ca",
   "metadata": {},
   "outputs": [
    {
     "data": {
      "text/plain": [
       "[PhysicalDevice(name='/physical_device:CPU:0', device_type='CPU'),\n",
       " PhysicalDevice(name='/physical_device:GPU:0', device_type='GPU')]"
      ]
     },
     "execution_count": 2,
     "metadata": {},
     "output_type": "execute_result"
    }
   ],
   "source": [
    "tf.config.list_physical_devices()"
   ]
  },
  {
   "cell_type": "code",
   "execution_count": 22,
   "id": "22282b5e",
   "metadata": {},
   "outputs": [],
   "source": [
    "import pandas as pd\n",
    "import numpy as np"
   ]
  },
  {
   "cell_type": "code",
   "execution_count": 89,
   "id": "44054af0",
   "metadata": {},
   "outputs": [
    {
     "data": {
      "text/html": [
       "<div>\n",
       "<style scoped>\n",
       "    .dataframe tbody tr th:only-of-type {\n",
       "        vertical-align: middle;\n",
       "    }\n",
       "\n",
       "    .dataframe tbody tr th {\n",
       "        vertical-align: top;\n",
       "    }\n",
       "\n",
       "    .dataframe thead th {\n",
       "        text-align: right;\n",
       "    }\n",
       "</style>\n",
       "<table border=\"1\" class=\"dataframe\">\n",
       "  <thead>\n",
       "    <tr style=\"text-align: right;\">\n",
       "      <th></th>\n",
       "      <th>Open</th>\n",
       "      <th>High</th>\n",
       "      <th>Low</th>\n",
       "      <th>Close</th>\n",
       "      <th>Adj Close</th>\n",
       "      <th>Volume</th>\n",
       "    </tr>\n",
       "    <tr>\n",
       "      <th>Date</th>\n",
       "      <th></th>\n",
       "      <th></th>\n",
       "      <th></th>\n",
       "      <th></th>\n",
       "      <th></th>\n",
       "      <th></th>\n",
       "    </tr>\n",
       "  </thead>\n",
       "  <tbody>\n",
       "    <tr>\n",
       "      <th>2014-09-17</th>\n",
       "      <td>465.864014</td>\n",
       "      <td>468.174011</td>\n",
       "      <td>452.421997</td>\n",
       "      <td>457.334015</td>\n",
       "      <td>457.334015</td>\n",
       "      <td>21056800</td>\n",
       "    </tr>\n",
       "    <tr>\n",
       "      <th>2014-09-18</th>\n",
       "      <td>456.859985</td>\n",
       "      <td>456.859985</td>\n",
       "      <td>413.104004</td>\n",
       "      <td>424.440002</td>\n",
       "      <td>424.440002</td>\n",
       "      <td>34483200</td>\n",
       "    </tr>\n",
       "    <tr>\n",
       "      <th>2014-09-19</th>\n",
       "      <td>424.102997</td>\n",
       "      <td>427.834991</td>\n",
       "      <td>384.532013</td>\n",
       "      <td>394.795990</td>\n",
       "      <td>394.795990</td>\n",
       "      <td>37919700</td>\n",
       "    </tr>\n",
       "    <tr>\n",
       "      <th>2014-09-20</th>\n",
       "      <td>394.673004</td>\n",
       "      <td>423.295990</td>\n",
       "      <td>389.882996</td>\n",
       "      <td>408.903992</td>\n",
       "      <td>408.903992</td>\n",
       "      <td>36863600</td>\n",
       "    </tr>\n",
       "    <tr>\n",
       "      <th>2014-09-21</th>\n",
       "      <td>408.084991</td>\n",
       "      <td>412.425995</td>\n",
       "      <td>393.181000</td>\n",
       "      <td>398.821014</td>\n",
       "      <td>398.821014</td>\n",
       "      <td>26580100</td>\n",
       "    </tr>\n",
       "  </tbody>\n",
       "</table>\n",
       "</div>"
      ],
      "text/plain": [
       "                  Open        High         Low       Close   Adj Close  \\\n",
       "Date                                                                     \n",
       "2014-09-17  465.864014  468.174011  452.421997  457.334015  457.334015   \n",
       "2014-09-18  456.859985  456.859985  413.104004  424.440002  424.440002   \n",
       "2014-09-19  424.102997  427.834991  384.532013  394.795990  394.795990   \n",
       "2014-09-20  394.673004  423.295990  389.882996  408.903992  408.903992   \n",
       "2014-09-21  408.084991  412.425995  393.181000  398.821014  398.821014   \n",
       "\n",
       "              Volume  \n",
       "Date                  \n",
       "2014-09-17  21056800  \n",
       "2014-09-18  34483200  \n",
       "2014-09-19  37919700  \n",
       "2014-09-20  36863600  \n",
       "2014-09-21  26580100  "
      ]
     },
     "execution_count": 89,
     "metadata": {},
     "output_type": "execute_result"
    }
   ],
   "source": [
    "btc = pd.read_csv(\"data/BTC-USD.csv\",\n",
    "             parse_dates=[\"Date\"],\n",
    "                 index_col=[\"Date\"])\n",
    "\n",
    "btc.head()"
   ]
  },
  {
   "cell_type": "code",
   "execution_count": 115,
   "id": "870dd715",
   "metadata": {},
   "outputs": [
    {
     "name": "stderr",
     "output_type": "stream",
     "text": [
      "C:\\Users\\Sykkuno\\AppData\\Local\\Temp\\ipykernel_12852\\706006884.py:1: FutureWarning: Indexing a DataFrame with a datetimelike index using a single string to slice the rows, like `frame[string]`, is deprecated and will be removed in a future version. Use `frame.loc[string]` instead.\n",
      "  btc[\"2014-09\"]\n"
     ]
    },
    {
     "data": {
      "text/html": [
       "<div>\n",
       "<style scoped>\n",
       "    .dataframe tbody tr th:only-of-type {\n",
       "        vertical-align: middle;\n",
       "    }\n",
       "\n",
       "    .dataframe tbody tr th {\n",
       "        vertical-align: top;\n",
       "    }\n",
       "\n",
       "    .dataframe thead th {\n",
       "        text-align: right;\n",
       "    }\n",
       "</style>\n",
       "<table border=\"1\" class=\"dataframe\">\n",
       "  <thead>\n",
       "    <tr style=\"text-align: right;\">\n",
       "      <th></th>\n",
       "      <th>Open</th>\n",
       "      <th>High</th>\n",
       "      <th>Low</th>\n",
       "      <th>Close</th>\n",
       "      <th>Adj Close</th>\n",
       "      <th>Volume</th>\n",
       "    </tr>\n",
       "    <tr>\n",
       "      <th>Date</th>\n",
       "      <th></th>\n",
       "      <th></th>\n",
       "      <th></th>\n",
       "      <th></th>\n",
       "      <th></th>\n",
       "      <th></th>\n",
       "    </tr>\n",
       "  </thead>\n",
       "  <tbody>\n",
       "    <tr>\n",
       "      <th>2014-09-17</th>\n",
       "      <td>465.864014</td>\n",
       "      <td>468.174011</td>\n",
       "      <td>452.421997</td>\n",
       "      <td>457.334015</td>\n",
       "      <td>457.334015</td>\n",
       "      <td>21056800</td>\n",
       "    </tr>\n",
       "    <tr>\n",
       "      <th>2014-09-18</th>\n",
       "      <td>456.859985</td>\n",
       "      <td>456.859985</td>\n",
       "      <td>413.104004</td>\n",
       "      <td>424.440002</td>\n",
       "      <td>424.440002</td>\n",
       "      <td>34483200</td>\n",
       "    </tr>\n",
       "    <tr>\n",
       "      <th>2014-09-19</th>\n",
       "      <td>424.102997</td>\n",
       "      <td>427.834991</td>\n",
       "      <td>384.532013</td>\n",
       "      <td>394.795990</td>\n",
       "      <td>394.795990</td>\n",
       "      <td>37919700</td>\n",
       "    </tr>\n",
       "    <tr>\n",
       "      <th>2014-09-20</th>\n",
       "      <td>394.673004</td>\n",
       "      <td>423.295990</td>\n",
       "      <td>389.882996</td>\n",
       "      <td>408.903992</td>\n",
       "      <td>408.903992</td>\n",
       "      <td>36863600</td>\n",
       "    </tr>\n",
       "    <tr>\n",
       "      <th>2014-09-21</th>\n",
       "      <td>408.084991</td>\n",
       "      <td>412.425995</td>\n",
       "      <td>393.181000</td>\n",
       "      <td>398.821014</td>\n",
       "      <td>398.821014</td>\n",
       "      <td>26580100</td>\n",
       "    </tr>\n",
       "    <tr>\n",
       "      <th>2014-09-22</th>\n",
       "      <td>399.100006</td>\n",
       "      <td>406.915985</td>\n",
       "      <td>397.130005</td>\n",
       "      <td>402.152008</td>\n",
       "      <td>402.152008</td>\n",
       "      <td>24127600</td>\n",
       "    </tr>\n",
       "    <tr>\n",
       "      <th>2014-09-23</th>\n",
       "      <td>402.092010</td>\n",
       "      <td>441.557007</td>\n",
       "      <td>396.196991</td>\n",
       "      <td>435.790985</td>\n",
       "      <td>435.790985</td>\n",
       "      <td>45099500</td>\n",
       "    </tr>\n",
       "    <tr>\n",
       "      <th>2014-09-24</th>\n",
       "      <td>435.751007</td>\n",
       "      <td>436.112000</td>\n",
       "      <td>421.131989</td>\n",
       "      <td>423.204987</td>\n",
       "      <td>423.204987</td>\n",
       "      <td>30627700</td>\n",
       "    </tr>\n",
       "    <tr>\n",
       "      <th>2014-09-25</th>\n",
       "      <td>423.156006</td>\n",
       "      <td>423.519989</td>\n",
       "      <td>409.467987</td>\n",
       "      <td>411.574005</td>\n",
       "      <td>411.574005</td>\n",
       "      <td>26814400</td>\n",
       "    </tr>\n",
       "    <tr>\n",
       "      <th>2014-09-26</th>\n",
       "      <td>411.428986</td>\n",
       "      <td>414.937988</td>\n",
       "      <td>400.009003</td>\n",
       "      <td>404.424988</td>\n",
       "      <td>404.424988</td>\n",
       "      <td>21460800</td>\n",
       "    </tr>\n",
       "    <tr>\n",
       "      <th>2014-09-27</th>\n",
       "      <td>403.556000</td>\n",
       "      <td>406.622986</td>\n",
       "      <td>397.372009</td>\n",
       "      <td>399.519989</td>\n",
       "      <td>399.519989</td>\n",
       "      <td>15029300</td>\n",
       "    </tr>\n",
       "    <tr>\n",
       "      <th>2014-09-28</th>\n",
       "      <td>399.471008</td>\n",
       "      <td>401.016998</td>\n",
       "      <td>374.332001</td>\n",
       "      <td>377.181000</td>\n",
       "      <td>377.181000</td>\n",
       "      <td>23613300</td>\n",
       "    </tr>\n",
       "    <tr>\n",
       "      <th>2014-09-29</th>\n",
       "      <td>376.928009</td>\n",
       "      <td>385.210999</td>\n",
       "      <td>372.239990</td>\n",
       "      <td>375.467010</td>\n",
       "      <td>375.467010</td>\n",
       "      <td>32497700</td>\n",
       "    </tr>\n",
       "    <tr>\n",
       "      <th>2014-09-30</th>\n",
       "      <td>376.088013</td>\n",
       "      <td>390.976990</td>\n",
       "      <td>373.442993</td>\n",
       "      <td>386.944000</td>\n",
       "      <td>386.944000</td>\n",
       "      <td>34707300</td>\n",
       "    </tr>\n",
       "  </tbody>\n",
       "</table>\n",
       "</div>"
      ],
      "text/plain": [
       "                  Open        High         Low       Close   Adj Close  \\\n",
       "Date                                                                     \n",
       "2014-09-17  465.864014  468.174011  452.421997  457.334015  457.334015   \n",
       "2014-09-18  456.859985  456.859985  413.104004  424.440002  424.440002   \n",
       "2014-09-19  424.102997  427.834991  384.532013  394.795990  394.795990   \n",
       "2014-09-20  394.673004  423.295990  389.882996  408.903992  408.903992   \n",
       "2014-09-21  408.084991  412.425995  393.181000  398.821014  398.821014   \n",
       "2014-09-22  399.100006  406.915985  397.130005  402.152008  402.152008   \n",
       "2014-09-23  402.092010  441.557007  396.196991  435.790985  435.790985   \n",
       "2014-09-24  435.751007  436.112000  421.131989  423.204987  423.204987   \n",
       "2014-09-25  423.156006  423.519989  409.467987  411.574005  411.574005   \n",
       "2014-09-26  411.428986  414.937988  400.009003  404.424988  404.424988   \n",
       "2014-09-27  403.556000  406.622986  397.372009  399.519989  399.519989   \n",
       "2014-09-28  399.471008  401.016998  374.332001  377.181000  377.181000   \n",
       "2014-09-29  376.928009  385.210999  372.239990  375.467010  375.467010   \n",
       "2014-09-30  376.088013  390.976990  373.442993  386.944000  386.944000   \n",
       "\n",
       "              Volume  \n",
       "Date                  \n",
       "2014-09-17  21056800  \n",
       "2014-09-18  34483200  \n",
       "2014-09-19  37919700  \n",
       "2014-09-20  36863600  \n",
       "2014-09-21  26580100  \n",
       "2014-09-22  24127600  \n",
       "2014-09-23  45099500  \n",
       "2014-09-24  30627700  \n",
       "2014-09-25  26814400  \n",
       "2014-09-26  21460800  \n",
       "2014-09-27  15029300  \n",
       "2014-09-28  23613300  \n",
       "2014-09-29  32497700  \n",
       "2014-09-30  34707300  "
      ]
     },
     "execution_count": 115,
     "metadata": {},
     "output_type": "execute_result"
    }
   ],
   "source": [
    "btc[\"2014-09\"]"
   ]
  },
  {
   "cell_type": "code",
   "execution_count": 5,
   "id": "e8f86002",
   "metadata": {},
   "outputs": [
    {
     "data": {
      "text/html": [
       "<div>\n",
       "<style scoped>\n",
       "    .dataframe tbody tr th:only-of-type {\n",
       "        vertical-align: middle;\n",
       "    }\n",
       "\n",
       "    .dataframe tbody tr th {\n",
       "        vertical-align: top;\n",
       "    }\n",
       "\n",
       "    .dataframe thead th {\n",
       "        text-align: right;\n",
       "    }\n",
       "</style>\n",
       "<table border=\"1\" class=\"dataframe\">\n",
       "  <thead>\n",
       "    <tr style=\"text-align: right;\">\n",
       "      <th></th>\n",
       "      <th>Open</th>\n",
       "      <th>High</th>\n",
       "      <th>Low</th>\n",
       "      <th>Close</th>\n",
       "      <th>Adj Close</th>\n",
       "      <th>Volume</th>\n",
       "    </tr>\n",
       "    <tr>\n",
       "      <th>Date</th>\n",
       "      <th></th>\n",
       "      <th></th>\n",
       "      <th></th>\n",
       "      <th></th>\n",
       "      <th></th>\n",
       "      <th></th>\n",
       "    </tr>\n",
       "  </thead>\n",
       "  <tbody>\n",
       "    <tr>\n",
       "      <th>2023-01-03</th>\n",
       "      <td>16688.847656</td>\n",
       "      <td>16760.447266</td>\n",
       "      <td>16622.371094</td>\n",
       "      <td>16679.857422</td>\n",
       "      <td>16679.857422</td>\n",
       "      <td>13903079207</td>\n",
       "    </tr>\n",
       "    <tr>\n",
       "      <th>2023-01-04</th>\n",
       "      <td>16680.205078</td>\n",
       "      <td>16964.585938</td>\n",
       "      <td>16667.763672</td>\n",
       "      <td>16863.238281</td>\n",
       "      <td>16863.238281</td>\n",
       "      <td>18421743322</td>\n",
       "    </tr>\n",
       "    <tr>\n",
       "      <th>2023-01-05</th>\n",
       "      <td>16863.472656</td>\n",
       "      <td>16884.021484</td>\n",
       "      <td>16790.283203</td>\n",
       "      <td>16836.736328</td>\n",
       "      <td>16836.736328</td>\n",
       "      <td>13692758566</td>\n",
       "    </tr>\n",
       "    <tr>\n",
       "      <th>2023-01-06</th>\n",
       "      <td>16836.472656</td>\n",
       "      <td>16991.994141</td>\n",
       "      <td>16716.421875</td>\n",
       "      <td>16951.968750</td>\n",
       "      <td>16951.968750</td>\n",
       "      <td>14413662913</td>\n",
       "    </tr>\n",
       "    <tr>\n",
       "      <th>2023-01-07</th>\n",
       "      <td>16948.787109</td>\n",
       "      <td>16975.017578</td>\n",
       "      <td>16929.478516</td>\n",
       "      <td>16950.582031</td>\n",
       "      <td>16950.582031</td>\n",
       "      <td>13550465024</td>\n",
       "    </tr>\n",
       "  </tbody>\n",
       "</table>\n",
       "</div>"
      ],
      "text/plain": [
       "                    Open          High           Low         Close  \\\n",
       "Date                                                                 \n",
       "2023-01-03  16688.847656  16760.447266  16622.371094  16679.857422   \n",
       "2023-01-04  16680.205078  16964.585938  16667.763672  16863.238281   \n",
       "2023-01-05  16863.472656  16884.021484  16790.283203  16836.736328   \n",
       "2023-01-06  16836.472656  16991.994141  16716.421875  16951.968750   \n",
       "2023-01-07  16948.787109  16975.017578  16929.478516  16950.582031   \n",
       "\n",
       "               Adj Close       Volume  \n",
       "Date                                   \n",
       "2023-01-03  16679.857422  13903079207  \n",
       "2023-01-04  16863.238281  18421743322  \n",
       "2023-01-05  16836.736328  13692758566  \n",
       "2023-01-06  16951.968750  14413662913  \n",
       "2023-01-07  16950.582031  13550465024  "
      ]
     },
     "execution_count": 5,
     "metadata": {},
     "output_type": "execute_result"
    }
   ],
   "source": [
    "`btc.tail()"
   ]
  },
  {
   "cell_type": "code",
   "execution_count": 6,
   "id": "5b5335a8",
   "metadata": {},
   "outputs": [],
   "source": [
    "import seaborn as sns"
   ]
  },
  {
   "cell_type": "code",
   "execution_count": 7,
   "id": "cd9d3f4a",
   "metadata": {},
   "outputs": [
    {
     "data": {
      "text/plain": [
       "<AxesSubplot: xlabel='Date', ylabel='Open'>"
      ]
     },
     "execution_count": 7,
     "metadata": {},
     "output_type": "execute_result"
    },
    {
     "data": {
      "image/png": "[encoded data removed]",
      "text/plain": [
       "<Figure size 640x480 with 1 Axes>"
      ]
     },
     "metadata": {},
     "output_type": "display_data"
    }
   ],
   "source": [
    "sns.lineplot(btc[\"Open\"])"
   ]
  },
  {
   "cell_type": "code",
   "execution_count": 8,
   "id": "cf0ed0b4",
   "metadata": {},
   "outputs": [
    {
     "data": {
      "text/plain": [
       "<AxesSubplot: xlabel='Date', ylabel='Close'>"
      ]
     },
     "execution_count": 8,
     "metadata": {},
     "output_type": "execute_result"
    },
    {
     "data": {
      "image/png": "[encoded data removed]",
      "text/plain": [
       "<Figure size 640x480 with 1 Axes>"
      ]
     },
     "metadata": {},
     "output_type": "display_data"
    }
   ],
   "source": [
    "sns.lineplot(btc[\"Close\"])"
   ]
  },
  {
   "cell_type": "code",
   "execution_count": 9,
   "id": "7066d21c",
   "metadata": {},
   "outputs": [
    {
     "data": {
      "text/plain": [
       "<AxesSubplot: xlabel='Date', ylabel='High'>"
      ]
     },
     "execution_count": 9,
     "metadata": {},
     "output_type": "execute_result"
    },
    {
     "data": {
      "image/png": "[encoded data removed]",
      "text/plain": [
       "<Figure size 640x480 with 1 Axes>"
      ]
     },
     "metadata": {},
     "output_type": "display_data"
    }
   ],
   "source": [
    "sns.lineplot(btc[\"High\"])"
   ]
  },
  {
   "cell_type": "code",
   "execution_count": 10,
   "id": "62f10cf4",
   "metadata": {},
   "outputs": [
    {
     "data": {
      "text/plain": [
       "<AxesSubplot: xlabel='Date', ylabel='Close'>"
      ]
     },
     "execution_count": 10,
     "metadata": {},
     "output_type": "execute_result"
    },
    {
     "data": {
      "image/png": "[encoded data removed]",
      "text/plain": [
       "<Figure size 640x480 with 1 Axes>"
      ]
     },
     "metadata": {},
     "output_type": "display_data"
    }
   ],
   "source": [
    "sns.lineplot(btc[\"Close\"])"
   ]
  },
  {
   "cell_type": "code",
   "execution_count": 11,
   "id": "0bfdabce",
   "metadata": {},
   "outputs": [
    {
     "data": {
      "text/plain": [
       "<AxesSubplot: xlabel='Date', ylabel='Volume'>"
      ]
     },
     "execution_count": 11,
     "metadata": {},
     "output_type": "execute_result"
    },
    {
     "data": {
      "image/png": "[encoded data removed]",
      "text/plain": [
       "<Figure size 640x480 with 1 Axes>"
      ]
     },
     "metadata": {},
     "output_type": "display_data"
    }
   ],
   "source": [
    "sns.lineplot(btc[\"Volume\"])"
   ]
  },
  {
   "cell_type": "code",
   "execution_count": 12,
   "id": "469f38b6",
   "metadata": {},
   "outputs": [
    {
     "data": {
      "text/plain": [
       "(3035, 6)"
      ]
     },
     "execution_count": 12,
     "metadata": {},
     "output_type": "execute_result"
    }
   ],
   "source": [
    "btc.shape"
   ]
  },
  {
   "cell_type": "code",
   "execution_count": 131,
   "id": "19987bc3",
   "metadata": {},
   "outputs": [
    {
     "data": {
      "text/html": [
       "<div>\n",
       "<style scoped>\n",
       "    .dataframe tbody tr th:only-of-type {\n",
       "        vertical-align: middle;\n",
       "    }\n",
       "\n",
       "    .dataframe tbody tr th {\n",
       "        vertical-align: top;\n",
       "    }\n",
       "\n",
       "    .dataframe thead th {\n",
       "        text-align: right;\n",
       "    }\n",
       "</style>\n",
       "<table border=\"1\" class=\"dataframe\">\n",
       "  <thead>\n",
       "    <tr style=\"text-align: right;\">\n",
       "      <th></th>\n",
       "      <th>Price</th>\n",
       "    </tr>\n",
       "    <tr>\n",
       "      <th>Date</th>\n",
       "      <th></th>\n",
       "    </tr>\n",
       "  </thead>\n",
       "  <tbody>\n",
       "    <tr>\n",
       "      <th>2014-09-17</th>\n",
       "      <td>457.334015</td>\n",
       "    </tr>\n",
       "    <tr>\n",
       "      <th>2014-09-18</th>\n",
       "      <td>424.440002</td>\n",
       "    </tr>\n",
       "    <tr>\n",
       "      <th>2014-09-19</th>\n",
       "      <td>394.795990</td>\n",
       "    </tr>\n",
       "    <tr>\n",
       "      <th>2014-09-20</th>\n",
       "      <td>408.903992</td>\n",
       "    </tr>\n",
       "    <tr>\n",
       "      <th>2014-09-21</th>\n",
       "      <td>398.821014</td>\n",
       "    </tr>\n",
       "  </tbody>\n",
       "</table>\n",
       "</div>"
      ],
      "text/plain": [
       "                 Price\n",
       "Date                  \n",
       "2014-09-17  457.334015\n",
       "2014-09-18  424.440002\n",
       "2014-09-19  394.795990\n",
       "2014-09-20  408.903992\n",
       "2014-09-21  398.821014"
      ]
     },
     "execution_count": 131,
     "metadata": {},
     "output_type": "execute_result"
    }
   ],
   "source": [
    "btc_data = pd.DataFrame(btc[\"Close\"].rename(\"Price\"))\n",
    "btc_data.head()"
   ]
  },
  {
   "cell_type": "code",
   "execution_count": 132,
   "id": "0261573a",
   "metadata": {},
   "outputs": [],
   "source": [
    "# Block reward values\n",
    "block_reward_1, block_reward_2, block_reward_3, block_reward_4 = 50, 25, 12.5, 6.25 \n",
    "\n",
    "# Block reward dates (datetime form of the above date stamps)\n",
    "block_reward_1_datetime = np.datetime64(\"2014-09-17\")\n",
    "block_reward_2_datetime = np.datetime64(\"2015-11-28\")\n",
    "block_reward_3_datetime = np.datetime64(\"2017-07-09\")\n",
    "block_reward_4_datetime = np.datetime64(\"2020-05-11\")\n",
    "\n",
    "block_reward_1_days = (block_reward_2_datetime - btc_data.index[0]).days\n",
    "block_reward_2_days = (block_reward_3_datetime - btc_data.index[0]).days\n",
    "block_reward_3_days = (block_reward_4_datetime - btc_data.index[0]).days"
   ]
  },
  {
   "cell_type": "code",
   "execution_count": 134,
   "id": "291939ff",
   "metadata": {},
   "outputs": [
    {
     "data": {
      "text/html": [
       "<div>\n",
       "<style scoped>\n",
       "    .dataframe tbody tr th:only-of-type {\n",
       "        vertical-align: middle;\n",
       "    }\n",
       "\n",
       "    .dataframe tbody tr th {\n",
       "        vertical-align: top;\n",
       "    }\n",
       "\n",
       "    .dataframe thead th {\n",
       "        text-align: right;\n",
       "    }\n",
       "</style>\n",
       "<table border=\"1\" class=\"dataframe\">\n",
       "  <thead>\n",
       "    <tr style=\"text-align: right;\">\n",
       "      <th></th>\n",
       "      <th>Price</th>\n",
       "      <th>Block Reward</th>\n",
       "    </tr>\n",
       "    <tr>\n",
       "      <th>Date</th>\n",
       "      <th></th>\n",
       "      <th></th>\n",
       "    </tr>\n",
       "  </thead>\n",
       "  <tbody>\n",
       "    <tr>\n",
       "      <th>2014-09-17</th>\n",
       "      <td>457.334015</td>\n",
       "      <td>50</td>\n",
       "    </tr>\n",
       "    <tr>\n",
       "      <th>2014-09-18</th>\n",
       "      <td>424.440002</td>\n",
       "      <td>50</td>\n",
       "    </tr>\n",
       "    <tr>\n",
       "      <th>2014-09-19</th>\n",
       "      <td>394.795990</td>\n",
       "      <td>50</td>\n",
       "    </tr>\n",
       "    <tr>\n",
       "      <th>2014-09-20</th>\n",
       "      <td>408.903992</td>\n",
       "      <td>50</td>\n",
       "    </tr>\n",
       "    <tr>\n",
       "      <th>2014-09-21</th>\n",
       "      <td>398.821014</td>\n",
       "      <td>50</td>\n",
       "    </tr>\n",
       "    <tr>\n",
       "      <th>...</th>\n",
       "      <td>...</td>\n",
       "      <td>...</td>\n",
       "    </tr>\n",
       "    <tr>\n",
       "      <th>2023-01-03</th>\n",
       "      <td>16679.857422</td>\n",
       "      <td>6.25</td>\n",
       "    </tr>\n",
       "    <tr>\n",
       "      <th>2023-01-04</th>\n",
       "      <td>16863.238281</td>\n",
       "      <td>6.25</td>\n",
       "    </tr>\n",
       "    <tr>\n",
       "      <th>2023-01-05</th>\n",
       "      <td>16836.736328</td>\n",
       "      <td>6.25</td>\n",
       "    </tr>\n",
       "    <tr>\n",
       "      <th>2023-01-06</th>\n",
       "      <td>16951.968750</td>\n",
       "      <td>6.25</td>\n",
       "    </tr>\n",
       "    <tr>\n",
       "      <th>2023-01-07</th>\n",
       "      <td>16950.582031</td>\n",
       "      <td>6.25</td>\n",
       "    </tr>\n",
       "  </tbody>\n",
       "</table>\n",
       "<p>3035 rows × 2 columns</p>\n",
       "</div>"
      ],
      "text/plain": [
       "                   Price Block Reward\n",
       "Date                                 \n",
       "2014-09-17    457.334015           50\n",
       "2014-09-18    424.440002           50\n",
       "2014-09-19    394.795990           50\n",
       "2014-09-20    408.903992           50\n",
       "2014-09-21    398.821014           50\n",
       "...                  ...          ...\n",
       "2023-01-03  16679.857422         6.25\n",
       "2023-01-04  16863.238281         6.25\n",
       "2023-01-05  16836.736328         6.25\n",
       "2023-01-06  16951.968750         6.25\n",
       "2023-01-07  16950.582031         6.25\n",
       "\n",
       "[3035 rows x 2 columns]"
      ]
     },
     "execution_count": 134,
     "metadata": {},
     "output_type": "execute_result"
    }
   ],
   "source": [
    "bitcoin_prices_block = btc_data.copy()\n",
    "bitcoin_prices_block[\"Block Reward\"] = None\n",
    "\n",
    "bitcoin_prices_block.iloc[:block_reward_1_days, -1] = block_reward_1\n",
    "bitcoin_prices_block.iloc[block_reward_1_days : block_reward_2_days, -1] = block_reward_2\n",
    "bitcoin_prices_block.iloc[block_reward_2_days : block_reward_3_days, -1] = block_reward_3\n",
    "bitcoin_prices_block.iloc[block_reward_3_days :, -1] = block_reward_4\n",
    "bitcoin_prices_block"
   ]
  },
  {
   "cell_type": "code",
   "execution_count": 135,
   "id": "322ff643",
   "metadata": {},
   "outputs": [
    {
     "data": {
      "image/png": "[encoded data removed]",
      "text/plain": [
       "<Figure size 1000x700 with 1 Axes>"
      ]
     },
     "metadata": {},
     "output_type": "display_data"
    }
   ],
   "source": [
    "from sklearn.preprocessing import minmax_scale\n",
    "scaled_price_block_df = pd.DataFrame(minmax_scale(bitcoin_prices_block[[\"Price\", \"Block Reward\"]]), # we need to scale the data first\n",
    "                                     columns=bitcoin_prices_block.columns,\n",
    "                                     index=bitcoin_prices_block.index)\n",
    "scaled_price_block_df.plot(figsize=(10, 7));"
   ]
  },
  {
   "cell_type": "code",
   "execution_count": 152,
   "id": "30e80fb0",
   "metadata": {},
   "outputs": [],
   "source": [
    "WINDOW = 15\n",
    "HORIZON = 1"
   ]
  },
  {
   "cell_type": "code",
   "execution_count": 153,
   "id": "a2490233",
   "metadata": {},
   "outputs": [
    {
     "data": {
      "text/html": [
       "<div>\n",
       "<style scoped>\n",
       "    .dataframe tbody tr th:only-of-type {\n",
       "        vertical-align: middle;\n",
       "    }\n",
       "\n",
       "    .dataframe tbody tr th {\n",
       "        vertical-align: top;\n",
       "    }\n",
       "\n",
       "    .dataframe thead th {\n",
       "        text-align: right;\n",
       "    }\n",
       "</style>\n",
       "<table border=\"1\" class=\"dataframe\">\n",
       "  <thead>\n",
       "    <tr style=\"text-align: right;\">\n",
       "      <th></th>\n",
       "      <th>Price</th>\n",
       "      <th>Block Reward</th>\n",
       "    </tr>\n",
       "    <tr>\n",
       "      <th>Date</th>\n",
       "      <th></th>\n",
       "      <th></th>\n",
       "    </tr>\n",
       "  </thead>\n",
       "  <tbody>\n",
       "    <tr>\n",
       "      <th>2014-09-17</th>\n",
       "      <td>457.334015</td>\n",
       "      <td>50</td>\n",
       "    </tr>\n",
       "    <tr>\n",
       "      <th>2014-09-18</th>\n",
       "      <td>424.440002</td>\n",
       "      <td>50</td>\n",
       "    </tr>\n",
       "    <tr>\n",
       "      <th>2014-09-19</th>\n",
       "      <td>394.795990</td>\n",
       "      <td>50</td>\n",
       "    </tr>\n",
       "    <tr>\n",
       "      <th>2014-09-20</th>\n",
       "      <td>408.903992</td>\n",
       "      <td>50</td>\n",
       "    </tr>\n",
       "    <tr>\n",
       "      <th>2014-09-21</th>\n",
       "      <td>398.821014</td>\n",
       "      <td>50</td>\n",
       "    </tr>\n",
       "  </tbody>\n",
       "</table>\n",
       "</div>"
      ],
      "text/plain": [
       "                 Price Block Reward\n",
       "Date                               \n",
       "2014-09-17  457.334015           50\n",
       "2014-09-18  424.440002           50\n",
       "2014-09-19  394.795990           50\n",
       "2014-09-20  408.903992           50\n",
       "2014-09-21  398.821014           50"
      ]
     },
     "execution_count": 153,
     "metadata": {},
     "output_type": "execute_result"
    }
   ],
   "source": [
    "bitcoin_prices_window = bitcoin_prices_block.copy()\n",
    "bitcoin_prices_window.head()"
   ]
  },
  {
   "cell_type": "code",
   "execution_count": 157,
   "id": "6fba6242",
   "metadata": {},
   "outputs": [
    {
     "data": {
      "text/html": [
       "<div>\n",
       "<style scoped>\n",
       "    .dataframe tbody tr th:only-of-type {\n",
       "        vertical-align: middle;\n",
       "    }\n",
       "\n",
       "    .dataframe tbody tr th {\n",
       "        vertical-align: top;\n",
       "    }\n",
       "\n",
       "    .dataframe thead th {\n",
       "        text-align: right;\n",
       "    }\n",
       "</style>\n",
       "<table border=\"1\" class=\"dataframe\">\n",
       "  <thead>\n",
       "    <tr style=\"text-align: right;\">\n",
       "      <th></th>\n",
       "      <th>Price</th>\n",
       "      <th>Block Reward</th>\n",
       "      <th>Pice 1</th>\n",
       "      <th>Pice 2</th>\n",
       "      <th>Pice 3</th>\n",
       "      <th>Pice 4</th>\n",
       "      <th>Pice 5</th>\n",
       "      <th>Pice 6</th>\n",
       "      <th>Pice 7</th>\n",
       "      <th>Pice 8</th>\n",
       "      <th>Pice 9</th>\n",
       "      <th>Pice 10</th>\n",
       "      <th>Pice 11</th>\n",
       "      <th>Pice 12</th>\n",
       "      <th>Pice 13</th>\n",
       "      <th>Pice 14</th>\n",
       "      <th>Pice 15</th>\n",
       "    </tr>\n",
       "    <tr>\n",
       "      <th>Date</th>\n",
       "      <th></th>\n",
       "      <th></th>\n",
       "      <th></th>\n",
       "      <th></th>\n",
       "      <th></th>\n",
       "      <th></th>\n",
       "      <th></th>\n",
       "      <th></th>\n",
       "      <th></th>\n",
       "      <th></th>\n",
       "      <th></th>\n",
       "      <th></th>\n",
       "      <th></th>\n",
       "      <th></th>\n",
       "      <th></th>\n",
       "      <th></th>\n",
       "      <th></th>\n",
       "    </tr>\n",
       "  </thead>\n",
       "  <tbody>\n",
       "    <tr>\n",
       "      <th>2014-09-17</th>\n",
       "      <td>457.334015</td>\n",
       "      <td>50</td>\n",
       "      <td>NaN</td>\n",
       "      <td>NaN</td>\n",
       "      <td>NaN</td>\n",
       "      <td>NaN</td>\n",
       "      <td>NaN</td>\n",
       "      <td>NaN</td>\n",
       "      <td>NaN</td>\n",
       "      <td>NaN</td>\n",
       "      <td>NaN</td>\n",
       "      <td>NaN</td>\n",
       "      <td>NaN</td>\n",
       "      <td>NaN</td>\n",
       "      <td>NaN</td>\n",
       "      <td>NaN</td>\n",
       "      <td>NaN</td>\n",
       "    </tr>\n",
       "    <tr>\n",
       "      <th>2014-09-18</th>\n",
       "      <td>424.440002</td>\n",
       "      <td>50</td>\n",
       "      <td>457.334015</td>\n",
       "      <td>NaN</td>\n",
       "      <td>NaN</td>\n",
       "      <td>NaN</td>\n",
       "      <td>NaN</td>\n",
       "      <td>NaN</td>\n",
       "      <td>NaN</td>\n",
       "      <td>NaN</td>\n",
       "      <td>NaN</td>\n",
       "      <td>NaN</td>\n",
       "      <td>NaN</td>\n",
       "      <td>NaN</td>\n",
       "      <td>NaN</td>\n",
       "      <td>NaN</td>\n",
       "      <td>NaN</td>\n",
       "    </tr>\n",
       "    <tr>\n",
       "      <th>2014-09-19</th>\n",
       "      <td>394.795990</td>\n",
       "      <td>50</td>\n",
       "      <td>424.440002</td>\n",
       "      <td>457.334015</td>\n",
       "      <td>NaN</td>\n",
       "      <td>NaN</td>\n",
       "      <td>NaN</td>\n",
       "      <td>NaN</td>\n",
       "      <td>NaN</td>\n",
       "      <td>NaN</td>\n",
       "      <td>NaN</td>\n",
       "      <td>NaN</td>\n",
       "      <td>NaN</td>\n",
       "      <td>NaN</td>\n",
       "      <td>NaN</td>\n",
       "      <td>NaN</td>\n",
       "      <td>NaN</td>\n",
       "    </tr>\n",
       "    <tr>\n",
       "      <th>2014-09-20</th>\n",
       "      <td>408.903992</td>\n",
       "      <td>50</td>\n",
       "      <td>394.795990</td>\n",
       "      <td>424.440002</td>\n",
       "      <td>457.334015</td>\n",
       "      <td>NaN</td>\n",
       "      <td>NaN</td>\n",
       "      <td>NaN</td>\n",
       "      <td>NaN</td>\n",
       "      <td>NaN</td>\n",
       "      <td>NaN</td>\n",
       "      <td>NaN</td>\n",
       "      <td>NaN</td>\n",
       "      <td>NaN</td>\n",
       "      <td>NaN</td>\n",
       "      <td>NaN</td>\n",
       "      <td>NaN</td>\n",
       "    </tr>\n",
       "    <tr>\n",
       "      <th>2014-09-21</th>\n",
       "      <td>398.821014</td>\n",
       "      <td>50</td>\n",
       "      <td>408.903992</td>\n",
       "      <td>394.795990</td>\n",
       "      <td>424.440002</td>\n",
       "      <td>457.334015</td>\n",
       "      <td>NaN</td>\n",
       "      <td>NaN</td>\n",
       "      <td>NaN</td>\n",
       "      <td>NaN</td>\n",
       "      <td>NaN</td>\n",
       "      <td>NaN</td>\n",
       "      <td>NaN</td>\n",
       "      <td>NaN</td>\n",
       "      <td>NaN</td>\n",
       "      <td>NaN</td>\n",
       "      <td>NaN</td>\n",
       "    </tr>\n",
       "    <tr>\n",
       "      <th>2014-09-22</th>\n",
       "      <td>402.152008</td>\n",
       "      <td>50</td>\n",
       "      <td>398.821014</td>\n",
       "      <td>408.903992</td>\n",
       "      <td>394.795990</td>\n",
       "      <td>424.440002</td>\n",
       "      <td>457.334015</td>\n",
       "      <td>NaN</td>\n",
       "      <td>NaN</td>\n",
       "      <td>NaN</td>\n",
       "      <td>NaN</td>\n",
       "      <td>NaN</td>\n",
       "      <td>NaN</td>\n",
       "      <td>NaN</td>\n",
       "      <td>NaN</td>\n",
       "      <td>NaN</td>\n",
       "      <td>NaN</td>\n",
       "    </tr>\n",
       "    <tr>\n",
       "      <th>2014-09-23</th>\n",
       "      <td>435.790985</td>\n",
       "      <td>50</td>\n",
       "      <td>402.152008</td>\n",
       "      <td>398.821014</td>\n",
       "      <td>408.903992</td>\n",
       "      <td>394.795990</td>\n",
       "      <td>424.440002</td>\n",
       "      <td>457.334015</td>\n",
       "      <td>NaN</td>\n",
       "      <td>NaN</td>\n",
       "      <td>NaN</td>\n",
       "      <td>NaN</td>\n",
       "      <td>NaN</td>\n",
       "      <td>NaN</td>\n",
       "      <td>NaN</td>\n",
       "      <td>NaN</td>\n",
       "      <td>NaN</td>\n",
       "    </tr>\n",
       "    <tr>\n",
       "      <th>2014-09-24</th>\n",
       "      <td>423.204987</td>\n",
       "      <td>50</td>\n",
       "      <td>435.790985</td>\n",
       "      <td>402.152008</td>\n",
       "      <td>398.821014</td>\n",
       "      <td>408.903992</td>\n",
       "      <td>394.795990</td>\n",
       "      <td>424.440002</td>\n",
       "      <td>457.334015</td>\n",
       "      <td>NaN</td>\n",
       "      <td>NaN</td>\n",
       "      <td>NaN</td>\n",
       "      <td>NaN</td>\n",
       "      <td>NaN</td>\n",
       "      <td>NaN</td>\n",
       "      <td>NaN</td>\n",
       "      <td>NaN</td>\n",
       "    </tr>\n",
       "    <tr>\n",
       "      <th>2014-09-25</th>\n",
       "      <td>411.574005</td>\n",
       "      <td>50</td>\n",
       "      <td>423.204987</td>\n",
       "      <td>435.790985</td>\n",
       "      <td>402.152008</td>\n",
       "      <td>398.821014</td>\n",
       "      <td>408.903992</td>\n",
       "      <td>394.795990</td>\n",
       "      <td>424.440002</td>\n",
       "      <td>457.334015</td>\n",
       "      <td>NaN</td>\n",
       "      <td>NaN</td>\n",
       "      <td>NaN</td>\n",
       "      <td>NaN</td>\n",
       "      <td>NaN</td>\n",
       "      <td>NaN</td>\n",
       "      <td>NaN</td>\n",
       "    </tr>\n",
       "    <tr>\n",
       "      <th>2014-09-26</th>\n",
       "      <td>404.424988</td>\n",
       "      <td>50</td>\n",
       "      <td>411.574005</td>\n",
       "      <td>423.204987</td>\n",
       "      <td>435.790985</td>\n",
       "      <td>402.152008</td>\n",
       "      <td>398.821014</td>\n",
       "      <td>408.903992</td>\n",
       "      <td>394.795990</td>\n",
       "      <td>424.440002</td>\n",
       "      <td>457.334015</td>\n",
       "      <td>NaN</td>\n",
       "      <td>NaN</td>\n",
       "      <td>NaN</td>\n",
       "      <td>NaN</td>\n",
       "      <td>NaN</td>\n",
       "      <td>NaN</td>\n",
       "    </tr>\n",
       "    <tr>\n",
       "      <th>2014-09-27</th>\n",
       "      <td>399.519989</td>\n",
       "      <td>50</td>\n",
       "      <td>404.424988</td>\n",
       "      <td>411.574005</td>\n",
       "      <td>423.204987</td>\n",
       "      <td>435.790985</td>\n",
       "      <td>402.152008</td>\n",
       "      <td>398.821014</td>\n",
       "      <td>408.903992</td>\n",
       "      <td>394.795990</td>\n",
       "      <td>424.440002</td>\n",
       "      <td>457.334015</td>\n",
       "      <td>NaN</td>\n",
       "      <td>NaN</td>\n",
       "      <td>NaN</td>\n",
       "      <td>NaN</td>\n",
       "      <td>NaN</td>\n",
       "    </tr>\n",
       "    <tr>\n",
       "      <th>2014-09-28</th>\n",
       "      <td>377.181000</td>\n",
       "      <td>50</td>\n",
       "      <td>399.519989</td>\n",
       "      <td>404.424988</td>\n",
       "      <td>411.574005</td>\n",
       "      <td>423.204987</td>\n",
       "      <td>435.790985</td>\n",
       "      <td>402.152008</td>\n",
       "      <td>398.821014</td>\n",
       "      <td>408.903992</td>\n",
       "      <td>394.795990</td>\n",
       "      <td>424.440002</td>\n",
       "      <td>457.334015</td>\n",
       "      <td>NaN</td>\n",
       "      <td>NaN</td>\n",
       "      <td>NaN</td>\n",
       "      <td>NaN</td>\n",
       "    </tr>\n",
       "    <tr>\n",
       "      <th>2014-09-29</th>\n",
       "      <td>375.467010</td>\n",
       "      <td>50</td>\n",
       "      <td>377.181000</td>\n",
       "      <td>399.519989</td>\n",
       "      <td>404.424988</td>\n",
       "      <td>411.574005</td>\n",
       "      <td>423.204987</td>\n",
       "      <td>435.790985</td>\n",
       "      <td>402.152008</td>\n",
       "      <td>398.821014</td>\n",
       "      <td>408.903992</td>\n",
       "      <td>394.795990</td>\n",
       "      <td>424.440002</td>\n",
       "      <td>457.334015</td>\n",
       "      <td>NaN</td>\n",
       "      <td>NaN</td>\n",
       "      <td>NaN</td>\n",
       "    </tr>\n",
       "    <tr>\n",
       "      <th>2014-09-30</th>\n",
       "      <td>386.944000</td>\n",
       "      <td>50</td>\n",
       "      <td>375.467010</td>\n",
       "      <td>377.181000</td>\n",
       "      <td>399.519989</td>\n",
       "      <td>404.424988</td>\n",
       "      <td>411.574005</td>\n",
       "      <td>423.204987</td>\n",
       "      <td>435.790985</td>\n",
       "      <td>402.152008</td>\n",
       "      <td>398.821014</td>\n",
       "      <td>408.903992</td>\n",
       "      <td>394.795990</td>\n",
       "      <td>424.440002</td>\n",
       "      <td>457.334015</td>\n",
       "      <td>NaN</td>\n",
       "      <td>NaN</td>\n",
       "    </tr>\n",
       "    <tr>\n",
       "      <th>2014-10-01</th>\n",
       "      <td>383.614990</td>\n",
       "      <td>50</td>\n",
       "      <td>386.944000</td>\n",
       "      <td>375.467010</td>\n",
       "      <td>377.181000</td>\n",
       "      <td>399.519989</td>\n",
       "      <td>404.424988</td>\n",
       "      <td>411.574005</td>\n",
       "      <td>423.204987</td>\n",
       "      <td>435.790985</td>\n",
       "      <td>402.152008</td>\n",
       "      <td>398.821014</td>\n",
       "      <td>408.903992</td>\n",
       "      <td>394.795990</td>\n",
       "      <td>424.440002</td>\n",
       "      <td>457.334015</td>\n",
       "      <td>NaN</td>\n",
       "    </tr>\n",
       "    <tr>\n",
       "      <th>2014-10-02</th>\n",
       "      <td>375.071991</td>\n",
       "      <td>50</td>\n",
       "      <td>383.614990</td>\n",
       "      <td>386.944000</td>\n",
       "      <td>375.467010</td>\n",
       "      <td>377.181000</td>\n",
       "      <td>399.519989</td>\n",
       "      <td>404.424988</td>\n",
       "      <td>411.574005</td>\n",
       "      <td>423.204987</td>\n",
       "      <td>435.790985</td>\n",
       "      <td>402.152008</td>\n",
       "      <td>398.821014</td>\n",
       "      <td>408.903992</td>\n",
       "      <td>394.795990</td>\n",
       "      <td>424.440002</td>\n",
       "      <td>457.334015</td>\n",
       "    </tr>\n",
       "  </tbody>\n",
       "</table>\n",
       "</div>"
      ],
      "text/plain": [
       "                 Price Block Reward      Pice 1      Pice 2      Pice 3  \\\n",
       "Date                                                                      \n",
       "2014-09-17  457.334015           50         NaN         NaN         NaN   \n",
       "2014-09-18  424.440002           50  457.334015         NaN         NaN   \n",
       "2014-09-19  394.795990           50  424.440002  457.334015         NaN   \n",
       "2014-09-20  408.903992           50  394.795990  424.440002  457.334015   \n",
       "2014-09-21  398.821014           50  408.903992  394.795990  424.440002   \n",
       "2014-09-22  402.152008           50  398.821014  408.903992  394.795990   \n",
       "2014-09-23  435.790985           50  402.152008  398.821014  408.903992   \n",
       "2014-09-24  423.204987           50  435.790985  402.152008  398.821014   \n",
       "2014-09-25  411.574005           50  423.204987  435.790985  402.152008   \n",
       "2014-09-26  404.424988           50  411.574005  423.204987  435.790985   \n",
       "2014-09-27  399.519989           50  404.424988  411.574005  423.204987   \n",
       "2014-09-28  377.181000           50  399.519989  404.424988  411.574005   \n",
       "2014-09-29  375.467010           50  377.181000  399.519989  404.424988   \n",
       "2014-09-30  386.944000           50  375.467010  377.181000  399.519989   \n",
       "2014-10-01  383.614990           50  386.944000  375.467010  377.181000   \n",
       "2014-10-02  375.071991           50  383.614990  386.944000  375.467010   \n",
       "\n",
       "                Pice 4      Pice 5      Pice 6      Pice 7      Pice 8  \\\n",
       "Date                                                                     \n",
       "2014-09-17         NaN         NaN         NaN         NaN         NaN   \n",
       "2014-09-18         NaN         NaN         NaN         NaN         NaN   \n",
       "2014-09-19         NaN         NaN         NaN         NaN         NaN   \n",
       "2014-09-20         NaN         NaN         NaN         NaN         NaN   \n",
       "2014-09-21  457.334015         NaN         NaN         NaN         NaN   \n",
       "2014-09-22  424.440002  457.334015         NaN         NaN         NaN   \n",
       "2014-09-23  394.795990  424.440002  457.334015         NaN         NaN   \n",
       "2014-09-24  408.903992  394.795990  424.440002  457.334015         NaN   \n",
       "2014-09-25  398.821014  408.903992  394.795990  424.440002  457.334015   \n",
       "2014-09-26  402.152008  398.821014  408.903992  394.795990  424.440002   \n",
       "2014-09-27  435.790985  402.152008  398.821014  408.903992  394.795990   \n",
       "2014-09-28  423.204987  435.790985  402.152008  398.821014  408.903992   \n",
       "2014-09-29  411.574005  423.204987  435.790985  402.152008  398.821014   \n",
       "2014-09-30  404.424988  411.574005  423.204987  435.790985  402.152008   \n",
       "2014-10-01  399.519989  404.424988  411.574005  423.204987  435.790985   \n",
       "2014-10-02  377.181000  399.519989  404.424988  411.574005  423.204987   \n",
       "\n",
       "                Pice 9     Pice 10     Pice 11     Pice 12     Pice 13  \\\n",
       "Date                                                                     \n",
       "2014-09-17         NaN         NaN         NaN         NaN         NaN   \n",
       "2014-09-18         NaN         NaN         NaN         NaN         NaN   \n",
       "2014-09-19         NaN         NaN         NaN         NaN         NaN   \n",
       "2014-09-20         NaN         NaN         NaN         NaN         NaN   \n",
       "2014-09-21         NaN         NaN         NaN         NaN         NaN   \n",
       "2014-09-22         NaN         NaN         NaN         NaN         NaN   \n",
       "2014-09-23         NaN         NaN         NaN         NaN         NaN   \n",
       "2014-09-24         NaN         NaN         NaN         NaN         NaN   \n",
       "2014-09-25         NaN         NaN         NaN         NaN         NaN   \n",
       "2014-09-26  457.334015         NaN         NaN         NaN         NaN   \n",
       "2014-09-27  424.440002  457.334015         NaN         NaN         NaN   \n",
       "2014-09-28  394.795990  424.440002  457.334015         NaN         NaN   \n",
       "2014-09-29  408.903992  394.795990  424.440002  457.334015         NaN   \n",
       "2014-09-30  398.821014  408.903992  394.795990  424.440002  457.334015   \n",
       "2014-10-01  402.152008  398.821014  408.903992  394.795990  424.440002   \n",
       "2014-10-02  435.790985  402.152008  398.821014  408.903992  394.795990   \n",
       "\n",
       "               Pice 14     Pice 15  \n",
       "Date                                \n",
       "2014-09-17         NaN         NaN  \n",
       "2014-09-18         NaN         NaN  \n",
       "2014-09-19         NaN         NaN  \n",
       "2014-09-20         NaN         NaN  \n",
       "2014-09-21         NaN         NaN  \n",
       "2014-09-22         NaN         NaN  \n",
       "2014-09-23         NaN         NaN  \n",
       "2014-09-24         NaN         NaN  \n",
       "2014-09-25         NaN         NaN  \n",
       "2014-09-26         NaN         NaN  \n",
       "2014-09-27         NaN         NaN  \n",
       "2014-09-28         NaN         NaN  \n",
       "2014-09-29         NaN         NaN  \n",
       "2014-09-30         NaN         NaN  \n",
       "2014-10-01  457.334015         NaN  \n",
       "2014-10-02  424.440002  457.334015  "
      ]
     },
     "execution_count": 157,
     "metadata": {},
     "output_type": "execute_result"
    }
   ],
   "source": [
    "for i in range(WINDOW):\n",
    "    bitcoin_prices_window[f\"Pice {i+1}\"] = bitcoin_prices_window[\"Price\"].shift(periods=i+1)\n",
    "bitcoin_prices_window.head(16)"
   ]
  },
  {
   "cell_type": "code",
   "execution_count": 190,
   "id": "48c87e67",
   "metadata": {},
   "outputs": [
    {
     "data": {
      "text/plain": [
       "((3020, 16), (3020,))"
      ]
     },
     "execution_count": 190,
     "metadata": {},
     "output_type": "execute_result"
    }
   ],
   "source": [
    "X = bitcoin_prices_window.dropna().drop([\"Price\"], axis=1).astype(\"float32\")\n",
    "Y = bitcoin_prices_window.dropna()[\"Price\"].astype(\"float32\")\n",
    "X.shape, Y.shape"
   ]
  },
  {
   "cell_type": "code",
   "execution_count": 193,
   "id": "5158af23",
   "metadata": {},
   "outputs": [],
   "source": [
    "X = bitcoin_prices_window.dropna().drop([\"Price\"], axis=1, index=None).astype(\"float32\")"
   ]
  },
  {
   "cell_type": "code",
   "execution_count": 168,
   "id": "1129bcbc",
   "metadata": {},
   "outputs": [],
   "source": [
    "def create_train_test_splits(windows, horizons, test_split=0.2):\n",
    "    \"\"\" \n",
    "    Return train_windows, test_windows, train_horizons, test_horizons\n",
    "    \"\"\"\n",
    "    split_size = int(len(windows) * (1-test_split))\n",
    "    \n",
    "    train_windows = windows[: split_size]\n",
    "    train_labels = horizons[: split_size]\n",
    "    \n",
    "    test_windows = windows[split_size :]\n",
    "    test_labels =horizons[split_size :]\n",
    "    \n",
    "    return train_windows, test_windows, train_labels, test_labels"
   ]
  },
  {
   "cell_type": "code",
   "execution_count": 169,
   "id": "4db07584",
   "metadata": {},
   "outputs": [],
   "source": [
    "train_windows, test_windows, train_labels, test_labels = create_train_test_splits(X, Y, test_split=0.15)"
   ]
  },
  {
   "cell_type": "code",
   "execution_count": 174,
   "id": "73c925f4",
   "metadata": {},
   "outputs": [
    {
     "name": "stdout",
     "output_type": "stream",
     "text": [
      "Trining Data Shape window->(2567, 16), labels->(2567,) \n",
      "Testing Data Shape window->(453, 16), labels->(453,)\n"
     ]
    }
   ],
   "source": [
    "print(f\"Trining Data Shape window->{train_windows.shape}, labels->{train_labels.shape} \\nTesting Data Shape window->{test_windows.shape}, labels->{test_labels.shape}\")"
   ]
  },
  {
   "cell_type": "code",
   "execution_count": 224,
   "id": "79a6cd1e",
   "metadata": {},
   "outputs": [],
   "source": [
    "from tensorflow.keras.callbacks import ModelCheckpoint\n",
    "# Creating a model Checkpoint function\n",
    "\n",
    "checkpoint_callback = ModelCheckpoint(filepath=\"models/bitcoin_model/\",\n",
    "                                     monitor=\"val_loss\", \n",
    "                                    save_best_only=True,\n",
    "                                     save_freq=\"epoch\")"
   ]
  },
  {
   "cell_type": "code",
   "execution_count": 234,
   "id": "e87b960d",
   "metadata": {},
   "outputs": [
    {
     "name": "stdout",
     "output_type": "stream",
     "text": [
      "WARNING:tensorflow:Layer lstm_15 will not use cuDNN kernels since it doesn't meet the criteria. It will use a generic GPU kernel as fallback when running on GPU.\n"
     ]
    }
   ],
   "source": [
    "tf.random.set_seed(42)\n",
    "\n",
    "# Creating the Model\n",
    "ip = tf.keras.layers.Input(shape=(WINDOW+1))\n",
    "x = tf.keras.layers.Lambda(lambda x: tf.expand_dims(x, axis=1))(ip)\n",
    "x = tf.keras.layers.Conv1D(filters=128, kernel_size=5, activation=\"relu\", padding=\"causal\")(x)\n",
    "x = tf.keras.layers.LSTM(128, activation=\"relu\")(x)\n",
    "op = tf.keras.layers.Dense(HORIZON)(x)\n",
    "\n",
    "model = tf.keras.Model(ip, op)\n",
    "\n",
    "# Compiling the Model\n",
    "model.compile(loss=tf.keras.losses.mae,\n",
    "             optimizer=tf.keras.optimizers.Adam(learning_rate=0.001))"
   ]
  },
  {
   "cell_type": "code",
   "execution_count": 235,
   "id": "2746c0ab",
   "metadata": {},
   "outputs": [
    {
     "name": "stdout",
     "output_type": "stream",
     "text": [
      "Model: \"model_7\"\n",
      "_________________________________________________________________\n",
      " Layer (type)                Output Shape              Param #   \n",
      "=================================================================\n",
      " input_15 (InputLayer)       [(None, 16)]              0         \n",
      "                                                                 \n",
      " lambda_15 (Lambda)          (None, 1, 16)             0         \n",
      "                                                                 \n",
      " conv1d_3 (Conv1D)           (None, 1, 128)            10368     \n",
      "                                                                 \n",
      " lstm_15 (LSTM)              (None, 128)               131584    \n",
      "                                                                 \n",
      " dense_7 (Dense)             (None, 1)                 129       \n",
      "                                                                 \n",
      "=================================================================\n",
      "Total params: 142,081\n",
      "Trainable params: 142,081\n",
      "Non-trainable params: 0\n",
      "_________________________________________________________________\n"
     ]
    }
   ],
   "source": [
    "model.summary()"
   ]
  },
  {
   "cell_type": "code",
   "execution_count": 236,
   "id": "039a8b74",
   "metadata": {},
   "outputs": [
    {
     "name": "stdout",
     "output_type": "stream",
     "text": [
      "Epoch 1/100\n",
      "19/21 [==========================>...] - ETA: 0s - loss: 5680.6060"
     ]
    },
    {
     "name": "stderr",
     "output_type": "stream",
     "text": [
      "WARNING:absl:Found untraced functions such as _jit_compiled_convolution_op while saving (showing 1 of 1). These functions will not be directly callable after loading.\n"
     ]
    },
    {
     "name": "stdout",
     "output_type": "stream",
     "text": [
      "INFO:tensorflow:Assets written to: models/bitcoin_model\\assets\n"
     ]
    },
    {
     "name": "stderr",
     "output_type": "stream",
     "text": [
      "INFO:tensorflow:Assets written to: models/bitcoin_model\\assets\n"
     ]
    },
    {
     "name": "stdout",
     "output_type": "stream",
     "text": [
      "21/21 [==============================] - 4s 145ms/step - loss: 5453.1519 - val_loss: 2446.5791\n",
      "Epoch 2/100\n",
      "20/21 [===========================>..] - ETA: 0s - loss: 974.7797"
     ]
    },
    {
     "name": "stderr",
     "output_type": "stream",
     "text": [
      "WARNING:absl:Found untraced functions such as _jit_compiled_convolution_op while saving (showing 1 of 1). These functions will not be directly callable after loading.\n"
     ]
    },
    {
     "name": "stdout",
     "output_type": "stream",
     "text": [
      "INFO:tensorflow:Assets written to: models/bitcoin_model\\assets\n"
     ]
    },
    {
     "name": "stderr",
     "output_type": "stream",
     "text": [
      "INFO:tensorflow:Assets written to: models/bitcoin_model\\assets\n"
     ]
    },
    {
     "name": "stdout",
     "output_type": "stream",
     "text": [
      "21/21 [==============================] - 2s 117ms/step - loss: 974.8314 - val_loss: 2381.0320\n",
      "Epoch 3/100\n",
      "21/21 [==============================] - 0s 14ms/step - loss: 799.0627 - val_loss: 2388.6055\n",
      "Epoch 4/100\n",
      "21/21 [==============================] - 0s 13ms/step - loss: 727.7687 - val_loss: 2432.4172\n",
      "Epoch 5/100\n",
      "21/21 [==============================] - ETA: 0s - loss: 666.1105"
     ]
    },
    {
     "name": "stderr",
     "output_type": "stream",
     "text": [
      "WARNING:absl:Found untraced functions such as _jit_compiled_convolution_op while saving (showing 1 of 1). These functions will not be directly callable after loading.\n"
     ]
    },
    {
     "name": "stdout",
     "output_type": "stream",
     "text": [
      "INFO:tensorflow:Assets written to: models/bitcoin_model\\assets\n"
     ]
    },
    {
     "name": "stderr",
     "output_type": "stream",
     "text": [
      "INFO:tensorflow:Assets written to: models/bitcoin_model\\assets\n"
     ]
    },
    {
     "name": "stdout",
     "output_type": "stream",
     "text": [
      "21/21 [==============================] - 2s 122ms/step - loss: 666.1105 - val_loss: 1625.3000\n",
      "Epoch 6/100\n",
      "21/21 [==============================] - 0s 15ms/step - loss: 621.1338 - val_loss: 1770.7603\n",
      "Epoch 7/100\n",
      "20/21 [===========================>..] - ETA: 0s - loss: 584.7527"
     ]
    },
    {
     "name": "stderr",
     "output_type": "stream",
     "text": [
      "WARNING:absl:Found untraced functions such as _jit_compiled_convolution_op while saving (showing 1 of 1). These functions will not be directly callable after loading.\n"
     ]
    },
    {
     "name": "stdout",
     "output_type": "stream",
     "text": [
      "INFO:tensorflow:Assets written to: models/bitcoin_model\\assets\n"
     ]
    },
    {
     "name": "stderr",
     "output_type": "stream",
     "text": [
      "INFO:tensorflow:Assets written to: models/bitcoin_model\\assets\n"
     ]
    },
    {
     "name": "stdout",
     "output_type": "stream",
     "text": [
      "21/21 [==============================] - 2s 107ms/step - loss: 585.5717 - val_loss: 1454.8538\n",
      "Epoch 8/100\n",
      "21/21 [==============================] - 0s 12ms/step - loss: 558.2908 - val_loss: 1724.0746\n",
      "Epoch 9/100\n",
      "21/21 [==============================] - 0s 12ms/step - loss: 528.9229 - val_loss: 2127.0891\n",
      "Epoch 10/100\n",
      "21/21 [==============================] - 0s 10ms/step - loss: 535.2122 - val_loss: 1862.4170\n",
      "Epoch 11/100\n",
      "15/21 [====================>.........] - ETA: 0s - loss: 505.8362"
     ]
    },
    {
     "name": "stderr",
     "output_type": "stream",
     "text": [
      "WARNING:absl:Found untraced functions such as _jit_compiled_convolution_op while saving (showing 1 of 1). These functions will not be directly callable after loading.\n"
     ]
    },
    {
     "name": "stdout",
     "output_type": "stream",
     "text": [
      "INFO:tensorflow:Assets written to: models/bitcoin_model\\assets\n"
     ]
    },
    {
     "name": "stderr",
     "output_type": "stream",
     "text": [
      "INFO:tensorflow:Assets written to: models/bitcoin_model\\assets\n"
     ]
    },
    {
     "name": "stdout",
     "output_type": "stream",
     "text": [
      "21/21 [==============================] - 2s 92ms/step - loss: 502.3675 - val_loss: 1221.7562\n",
      "Epoch 12/100\n",
      "19/21 [==========================>...] - ETA: 0s - loss: 518.9806"
     ]
    },
    {
     "name": "stderr",
     "output_type": "stream",
     "text": [
      "WARNING:absl:Found untraced functions such as _jit_compiled_convolution_op while saving (showing 1 of 1). These functions will not be directly callable after loading.\n"
     ]
    },
    {
     "name": "stdout",
     "output_type": "stream",
     "text": [
      "INFO:tensorflow:Assets written to: models/bitcoin_model\\assets\n"
     ]
    },
    {
     "name": "stderr",
     "output_type": "stream",
     "text": [
      "INFO:tensorflow:Assets written to: models/bitcoin_model\\assets\n"
     ]
    },
    {
     "name": "stdout",
     "output_type": "stream",
     "text": [
      "21/21 [==============================] - 2s 98ms/step - loss: 519.0167 - val_loss: 1193.5823\n",
      "Epoch 13/100\n",
      "21/21 [==============================] - 0s 12ms/step - loss: 464.3370 - val_loss: 1820.4684\n",
      "Epoch 14/100\n",
      "21/21 [==============================] - ETA: 0s - loss: 522.4064"
     ]
    },
    {
     "name": "stderr",
     "output_type": "stream",
     "text": [
      "WARNING:absl:Found untraced functions such as _jit_compiled_convolution_op while saving (showing 1 of 1). These functions will not be directly callable after loading.\n"
     ]
    },
    {
     "name": "stdout",
     "output_type": "stream",
     "text": [
      "INFO:tensorflow:Assets written to: models/bitcoin_model\\assets\n"
     ]
    },
    {
     "name": "stderr",
     "output_type": "stream",
     "text": [
      "INFO:tensorflow:Assets written to: models/bitcoin_model\\assets\n"
     ]
    },
    {
     "name": "stdout",
     "output_type": "stream",
     "text": [
      "21/21 [==============================] - 3s 130ms/step - loss: 522.4064 - val_loss: 1158.1212\n",
      "Epoch 15/100\n",
      "21/21 [==============================] - 0s 12ms/step - loss: 464.1930 - val_loss: 1405.2460\n",
      "Epoch 16/100\n",
      "21/21 [==============================] - 0s 12ms/step - loss: 448.3794 - val_loss: 1241.2302\n",
      "Epoch 17/100\n",
      "21/21 [==============================] - 0s 10ms/step - loss: 434.9450 - val_loss: 1483.4855\n",
      "Epoch 18/100\n",
      "21/21 [==============================] - 0s 10ms/step - loss: 472.4257 - val_loss: 1256.7073\n",
      "Epoch 19/100\n",
      "21/21 [==============================] - 0s 10ms/step - loss: 440.7311 - val_loss: 1165.8737\n",
      "Epoch 20/100\n",
      "21/21 [==============================] - 0s 9ms/step - loss: 423.9253 - val_loss: 1706.0178\n",
      "Epoch 21/100\n",
      "21/21 [==============================] - 0s 9ms/step - loss: 474.0742 - val_loss: 1362.5443\n",
      "Epoch 22/100\n",
      "21/21 [==============================] - 0s 9ms/step - loss: 409.5657 - val_loss: 1378.0121\n",
      "Epoch 23/100\n",
      "21/21 [==============================] - 0s 9ms/step - loss: 513.6577 - val_loss: 1416.0369\n",
      "Epoch 24/100\n",
      "15/21 [====================>.........] - ETA: 0s - loss: 411.7420"
     ]
    },
    {
     "name": "stderr",
     "output_type": "stream",
     "text": [
      "WARNING:absl:Found untraced functions such as _jit_compiled_convolution_op while saving (showing 1 of 1). These functions will not be directly callable after loading.\n"
     ]
    },
    {
     "name": "stdout",
     "output_type": "stream",
     "text": [
      "INFO:tensorflow:Assets written to: models/bitcoin_model\\assets\n"
     ]
    },
    {
     "name": "stderr",
     "output_type": "stream",
     "text": [
      "INFO:tensorflow:Assets written to: models/bitcoin_model\\assets\n"
     ]
    },
    {
     "name": "stdout",
     "output_type": "stream",
     "text": [
      "21/21 [==============================] - 2s 90ms/step - loss: 403.1076 - val_loss: 1087.8400\n",
      "Epoch 25/100\n",
      "20/21 [===========================>..] - ETA: 0s - loss: 383.8636"
     ]
    },
    {
     "name": "stderr",
     "output_type": "stream",
     "text": [
      "WARNING:absl:Found untraced functions such as _jit_compiled_convolution_op while saving (showing 1 of 1). These functions will not be directly callable after loading.\n"
     ]
    },
    {
     "name": "stdout",
     "output_type": "stream",
     "text": [
      "INFO:tensorflow:Assets written to: models/bitcoin_model\\assets\n"
     ]
    },
    {
     "name": "stderr",
     "output_type": "stream",
     "text": [
      "INFO:tensorflow:Assets written to: models/bitcoin_model\\assets\n"
     ]
    },
    {
     "name": "stdout",
     "output_type": "stream",
     "text": [
      "21/21 [==============================] - 2s 97ms/step - loss: 384.9736 - val_loss: 1024.1537\n",
      "Epoch 26/100\n",
      "21/21 [==============================] - ETA: 0s - loss: 376.3757"
     ]
    },
    {
     "name": "stderr",
     "output_type": "stream",
     "text": [
      "WARNING:absl:Found untraced functions such as _jit_compiled_convolution_op while saving (showing 1 of 1). These functions will not be directly callable after loading.\n"
     ]
    },
    {
     "name": "stdout",
     "output_type": "stream",
     "text": [
      "INFO:tensorflow:Assets written to: models/bitcoin_model\\assets\n"
     ]
    },
    {
     "name": "stderr",
     "output_type": "stream",
     "text": [
      "INFO:tensorflow:Assets written to: models/bitcoin_model\\assets\n"
     ]
    },
    {
     "name": "stdout",
     "output_type": "stream",
     "text": [
      "21/21 [==============================] - 2s 92ms/step - loss: 376.3757 - val_loss: 1007.4592\n",
      "Epoch 27/100\n",
      "21/21 [==============================] - 0s 14ms/step - loss: 406.9801 - val_loss: 1167.0226\n",
      "Epoch 28/100\n",
      "21/21 [==============================] - 0s 9ms/step - loss: 422.4008 - val_loss: 1035.0587\n",
      "Epoch 29/100\n",
      "21/21 [==============================] - 0s 9ms/step - loss: 374.7490 - val_loss: 2020.6682\n",
      "Epoch 30/100\n",
      "21/21 [==============================] - ETA: 0s - loss: 481.6631"
     ]
    },
    {
     "name": "stderr",
     "output_type": "stream",
     "text": [
      "WARNING:absl:Found untraced functions such as _jit_compiled_convolution_op while saving (showing 1 of 1). These functions will not be directly callable after loading.\n"
     ]
    },
    {
     "name": "stdout",
     "output_type": "stream",
     "text": [
      "INFO:tensorflow:Assets written to: models/bitcoin_model\\assets\n"
     ]
    },
    {
     "name": "stderr",
     "output_type": "stream",
     "text": [
      "INFO:tensorflow:Assets written to: models/bitcoin_model\\assets\n"
     ]
    },
    {
     "name": "stdout",
     "output_type": "stream",
     "text": [
      "21/21 [==============================] - 2s 86ms/step - loss: 481.6631 - val_loss: 1001.2098\n",
      "Epoch 31/100\n",
      "21/21 [==============================] - 0s 13ms/step - loss: 407.0847 - val_loss: 1349.0226\n",
      "Epoch 32/100\n",
      "15/21 [====================>.........] - ETA: 0s - loss: 385.6251"
     ]
    },
    {
     "name": "stderr",
     "output_type": "stream",
     "text": [
      "WARNING:absl:Found untraced functions such as _jit_compiled_convolution_op while saving (showing 1 of 1). These functions will not be directly callable after loading.\n"
     ]
    },
    {
     "name": "stdout",
     "output_type": "stream",
     "text": [
      "INFO:tensorflow:Assets written to: models/bitcoin_model\\assets\n"
     ]
    },
    {
     "name": "stderr",
     "output_type": "stream",
     "text": [
      "INFO:tensorflow:Assets written to: models/bitcoin_model\\assets\n"
     ]
    },
    {
     "name": "stdout",
     "output_type": "stream",
     "text": [
      "21/21 [==============================] - 2s 90ms/step - loss: 382.6850 - val_loss: 967.2893\n",
      "Epoch 33/100\n",
      "21/21 [==============================] - 0s 13ms/step - loss: 352.7443 - val_loss: 1275.4556\n",
      "Epoch 34/100\n",
      "21/21 [==============================] - 0s 8ms/step - loss: 443.4258 - val_loss: 1741.8350\n",
      "Epoch 35/100\n",
      "21/21 [==============================] - 0s 9ms/step - loss: 363.8616 - val_loss: 1932.1936\n",
      "Epoch 36/100\n",
      "21/21 [==============================] - 0s 9ms/step - loss: 464.0281 - val_loss: 972.2274\n",
      "Epoch 37/100\n",
      "21/21 [==============================] - 0s 9ms/step - loss: 391.0042 - val_loss: 984.6859\n",
      "Epoch 38/100\n",
      "21/21 [==============================] - 0s 9ms/step - loss: 343.3490 - val_loss: 1108.6820\n",
      "Epoch 39/100\n",
      "17/21 [=======================>......] - ETA: 0s - loss: 373.1831"
     ]
    },
    {
     "name": "stderr",
     "output_type": "stream",
     "text": [
      "WARNING:absl:Found untraced functions such as _jit_compiled_convolution_op while saving (showing 1 of 1). These functions will not be directly callable after loading.\n"
     ]
    },
    {
     "name": "stdout",
     "output_type": "stream",
     "text": [
      "INFO:tensorflow:Assets written to: models/bitcoin_model\\assets\n"
     ]
    },
    {
     "name": "stderr",
     "output_type": "stream",
     "text": [
      "INFO:tensorflow:Assets written to: models/bitcoin_model\\assets\n"
     ]
    },
    {
     "name": "stdout",
     "output_type": "stream",
     "text": [
      "21/21 [==============================] - 2s 93ms/step - loss: 358.2289 - val_loss: 933.5244\n",
      "Epoch 40/100\n",
      "21/21 [==============================] - 0s 9ms/step - loss: 343.8056 - val_loss: 1015.5334\n",
      "Epoch 41/100\n",
      "21/21 [==============================] - 0s 10ms/step - loss: 337.0840 - val_loss: 1287.8812\n",
      "Epoch 42/100\n",
      "21/21 [==============================] - 0s 10ms/step - loss: 413.7214 - val_loss: 1577.6742\n",
      "Epoch 43/100\n",
      "20/21 [===========================>..] - ETA: 0s - loss: 442.2609"
     ]
    },
    {
     "name": "stderr",
     "output_type": "stream",
     "text": [
      "WARNING:absl:Found untraced functions such as _jit_compiled_convolution_op while saving (showing 1 of 1). These functions will not be directly callable after loading.\n"
     ]
    },
    {
     "name": "stdout",
     "output_type": "stream",
     "text": [
      "INFO:tensorflow:Assets written to: models/bitcoin_model\\assets\n"
     ]
    },
    {
     "name": "stderr",
     "output_type": "stream",
     "text": [
      "INFO:tensorflow:Assets written to: models/bitcoin_model\\assets\n"
     ]
    },
    {
     "name": "stdout",
     "output_type": "stream",
     "text": [
      "21/21 [==============================] - 2s 88ms/step - loss: 441.9591 - val_loss: 931.7108\n",
      "Epoch 44/100\n",
      "21/21 [==============================] - 0s 10ms/step - loss: 353.7528 - val_loss: 1055.1718\n",
      "Epoch 45/100\n",
      "21/21 [==============================] - 0s 9ms/step - loss: 378.1684 - val_loss: 1270.9672\n",
      "Epoch 46/100\n",
      "21/21 [==============================] - 0s 9ms/step - loss: 345.6092 - val_loss: 1105.7330\n",
      "Epoch 47/100\n",
      "21/21 [==============================] - 0s 8ms/step - loss: 343.8520 - val_loss: 1313.1111\n",
      "Epoch 48/100\n",
      "15/21 [====================>.........] - ETA: 0s - loss: 337.7615"
     ]
    },
    {
     "name": "stderr",
     "output_type": "stream",
     "text": [
      "WARNING:absl:Found untraced functions such as _jit_compiled_convolution_op while saving (showing 1 of 1). These functions will not be directly callable after loading.\n"
     ]
    },
    {
     "name": "stdout",
     "output_type": "stream",
     "text": [
      "INFO:tensorflow:Assets written to: models/bitcoin_model\\assets\n"
     ]
    },
    {
     "name": "stderr",
     "output_type": "stream",
     "text": [
      "INFO:tensorflow:Assets written to: models/bitcoin_model\\assets\n"
     ]
    },
    {
     "name": "stdout",
     "output_type": "stream",
     "text": [
      "21/21 [==============================] - 2s 83ms/step - loss: 331.3271 - val_loss: 885.0005\n",
      "Epoch 49/100\n",
      "21/21 [==============================] - 0s 14ms/step - loss: 336.7439 - val_loss: 2273.9424\n",
      "Epoch 50/100\n",
      "21/21 [==============================] - 0s 8ms/step - loss: 536.4426 - val_loss: 1228.1713\n",
      "Epoch 51/100\n",
      "21/21 [==============================] - 0s 8ms/step - loss: 514.3915 - val_loss: 2324.6738\n",
      "Epoch 52/100\n",
      "21/21 [==============================] - 0s 8ms/step - loss: 553.5798 - val_loss: 923.2836\n",
      "Epoch 53/100\n",
      "21/21 [==============================] - 0s 9ms/step - loss: 444.0931 - val_loss: 1919.9435\n",
      "Epoch 54/100\n",
      "21/21 [==============================] - 0s 9ms/step - loss: 517.3506 - val_loss: 973.1039\n",
      "Epoch 55/100\n",
      "21/21 [==============================] - 0s 8ms/step - loss: 351.1031 - val_loss: 1232.4548\n",
      "Epoch 56/100\n",
      "21/21 [==============================] - 0s 9ms/step - loss: 361.5123 - val_loss: 927.3164\n",
      "Epoch 57/100\n",
      "21/21 [==============================] - 0s 9ms/step - loss: 332.6737 - val_loss: 1061.2935\n",
      "Epoch 58/100\n",
      "21/21 [==============================] - 0s 9ms/step - loss: 332.6588 - val_loss: 893.0820\n",
      "Epoch 59/100\n",
      "21/21 [==============================] - 0s 9ms/step - loss: 341.4192 - val_loss: 945.9795\n",
      "Epoch 60/100\n",
      "21/21 [==============================] - 0s 9ms/step - loss: 329.8803 - val_loss: 888.6852\n",
      "Epoch 61/100\n",
      "21/21 [==============================] - 0s 9ms/step - loss: 323.2285 - val_loss: 1651.0131\n",
      "Epoch 62/100\n",
      "21/21 [==============================] - 0s 9ms/step - loss: 346.3771 - val_loss: 887.1659\n",
      "Epoch 63/100\n",
      "21/21 [==============================] - 0s 10ms/step - loss: 318.9675 - val_loss: 894.0334\n",
      "Epoch 64/100\n",
      "21/21 [==============================] - 0s 9ms/step - loss: 324.7279 - val_loss: 1190.0479\n",
      "Epoch 65/100\n",
      "16/21 [=====================>........] - ETA: 0s - loss: 317.5581"
     ]
    },
    {
     "name": "stderr",
     "output_type": "stream",
     "text": [
      "WARNING:absl:Found untraced functions such as _jit_compiled_convolution_op while saving (showing 1 of 1). These functions will not be directly callable after loading.\n"
     ]
    },
    {
     "name": "stdout",
     "output_type": "stream",
     "text": [
      "INFO:tensorflow:Assets written to: models/bitcoin_model\\assets\n"
     ]
    },
    {
     "name": "stderr",
     "output_type": "stream",
     "text": [
      "INFO:tensorflow:Assets written to: models/bitcoin_model\\assets\n"
     ]
    },
    {
     "name": "stdout",
     "output_type": "stream",
     "text": [
      "21/21 [==============================] - 2s 88ms/step - loss: 319.1408 - val_loss: 875.9581\n",
      "Epoch 66/100\n",
      "21/21 [==============================] - 0s 9ms/step - loss: 314.3880 - val_loss: 979.7674\n",
      "Epoch 67/100\n",
      "21/21 [==============================] - 0s 9ms/step - loss: 321.2244 - val_loss: 1162.4999\n",
      "Epoch 68/100\n",
      "21/21 [==============================] - 0s 9ms/step - loss: 360.7108 - val_loss: 1169.2523\n",
      "Epoch 69/100\n",
      "21/21 [==============================] - 0s 9ms/step - loss: 337.2006 - val_loss: 1117.3812\n",
      "Epoch 70/100\n",
      "17/21 [=======================>......] - ETA: 0s - loss: 331.9143"
     ]
    },
    {
     "name": "stderr",
     "output_type": "stream",
     "text": [
      "WARNING:absl:Found untraced functions such as _jit_compiled_convolution_op while saving (showing 1 of 1). These functions will not be directly callable after loading.\n"
     ]
    },
    {
     "name": "stdout",
     "output_type": "stream",
     "text": [
      "INFO:tensorflow:Assets written to: models/bitcoin_model\\assets\n"
     ]
    },
    {
     "name": "stderr",
     "output_type": "stream",
     "text": [
      "INFO:tensorflow:Assets written to: models/bitcoin_model\\assets\n"
     ]
    },
    {
     "name": "stdout",
     "output_type": "stream",
     "text": [
      "21/21 [==============================] - 2s 95ms/step - loss: 341.6059 - val_loss: 864.1213\n",
      "Epoch 71/100\n",
      "21/21 [==============================] - 0s 16ms/step - loss: 395.7683 - val_loss: 905.7706\n",
      "Epoch 72/100\n",
      "21/21 [==============================] - 0s 9ms/step - loss: 358.2205 - val_loss: 1211.9587\n",
      "Epoch 73/100\n",
      "21/21 [==============================] - 0s 9ms/step - loss: 371.0144 - val_loss: 976.7902\n",
      "Epoch 74/100\n",
      "21/21 [==============================] - 0s 9ms/step - loss: 351.1301 - val_loss: 1313.8256\n",
      "Epoch 75/100\n",
      "21/21 [==============================] - 0s 8ms/step - loss: 327.6867 - val_loss: 1247.9968\n",
      "Epoch 76/100\n",
      "21/21 [==============================] - 0s 9ms/step - loss: 335.7247 - val_loss: 881.4964\n",
      "Epoch 77/100\n",
      "21/21 [==============================] - 0s 9ms/step - loss: 311.7413 - val_loss: 1300.0277\n",
      "Epoch 78/100\n",
      "21/21 [==============================] - 0s 9ms/step - loss: 374.7215 - val_loss: 994.4524\n",
      "Epoch 79/100\n",
      "15/21 [====================>.........] - ETA: 0s - loss: 306.0145"
     ]
    },
    {
     "name": "stderr",
     "output_type": "stream",
     "text": [
      "WARNING:absl:Found untraced functions such as _jit_compiled_convolution_op while saving (showing 1 of 1). These functions will not be directly callable after loading.\n"
     ]
    },
    {
     "name": "stdout",
     "output_type": "stream",
     "text": [
      "INFO:tensorflow:Assets written to: models/bitcoin_model\\assets\n"
     ]
    },
    {
     "name": "stderr",
     "output_type": "stream",
     "text": [
      "INFO:tensorflow:Assets written to: models/bitcoin_model\\assets\n"
     ]
    },
    {
     "name": "stdout",
     "output_type": "stream",
     "text": [
      "21/21 [==============================] - 2s 89ms/step - loss: 312.1263 - val_loss: 854.9894\n",
      "Epoch 80/100\n",
      "21/21 [==============================] - ETA: 0s - loss: 313.0233"
     ]
    },
    {
     "name": "stderr",
     "output_type": "stream",
     "text": [
      "WARNING:absl:Found untraced functions such as _jit_compiled_convolution_op while saving (showing 1 of 1). These functions will not be directly callable after loading.\n"
     ]
    },
    {
     "name": "stdout",
     "output_type": "stream",
     "text": [
      "INFO:tensorflow:Assets written to: models/bitcoin_model\\assets\n"
     ]
    },
    {
     "name": "stderr",
     "output_type": "stream",
     "text": [
      "INFO:tensorflow:Assets written to: models/bitcoin_model\\assets\n"
     ]
    },
    {
     "name": "stdout",
     "output_type": "stream",
     "text": [
      "21/21 [==============================] - 3s 151ms/step - loss: 313.0233 - val_loss: 842.8079\n",
      "Epoch 81/100\n",
      "21/21 [==============================] - 0s 11ms/step - loss: 309.4714 - val_loss: 1080.6909\n",
      "Epoch 82/100\n",
      "21/21 [==============================] - 0s 9ms/step - loss: 384.7853 - val_loss: 1722.6383\n",
      "Epoch 83/100\n",
      "21/21 [==============================] - 0s 9ms/step - loss: 472.4921 - val_loss: 1125.5115\n",
      "Epoch 84/100\n",
      "21/21 [==============================] - 0s 9ms/step - loss: 331.5714 - val_loss: 1027.7806\n",
      "Epoch 85/100\n",
      "21/21 [==============================] - 0s 10ms/step - loss: 320.6068 - val_loss: 849.3368\n",
      "Epoch 86/100\n",
      "21/21 [==============================] - 0s 9ms/step - loss: 309.9990 - val_loss: 986.3970\n",
      "Epoch 87/100\n",
      "21/21 [==============================] - 0s 9ms/step - loss: 343.6581 - val_loss: 937.5199\n",
      "Epoch 88/100\n",
      "21/21 [==============================] - 0s 9ms/step - loss: 310.3434 - val_loss: 858.2377\n",
      "Epoch 89/100\n",
      "21/21 [==============================] - 0s 10ms/step - loss: 305.9148 - val_loss: 916.3697\n",
      "Epoch 90/100\n",
      "21/21 [==============================] - 0s 9ms/step - loss: 311.9400 - val_loss: 1248.7052\n",
      "Epoch 91/100\n",
      "21/21 [==============================] - 0s 9ms/step - loss: 362.6924 - val_loss: 1379.5177\n",
      "Epoch 92/100\n",
      "21/21 [==============================] - 0s 9ms/step - loss: 393.5199 - val_loss: 884.7928\n",
      "Epoch 93/100\n",
      "21/21 [==============================] - 0s 8ms/step - loss: 321.3167 - val_loss: 848.5442\n",
      "Epoch 94/100\n",
      "21/21 [==============================] - 0s 10ms/step - loss: 302.5921 - val_loss: 1050.7629\n",
      "Epoch 95/100\n",
      "21/21 [==============================] - 0s 10ms/step - loss: 320.3954 - val_loss: 888.3972\n",
      "Epoch 96/100\n",
      "21/21 [==============================] - 0s 10ms/step - loss: 311.0473 - val_loss: 1093.8286\n",
      "Epoch 97/100\n",
      "21/21 [==============================] - 0s 9ms/step - loss: 351.3833 - val_loss: 861.3803\n",
      "Epoch 98/100\n",
      "21/21 [==============================] - 0s 8ms/step - loss: 333.9116 - val_loss: 870.3389\n",
      "Epoch 99/100\n",
      "21/21 [==============================] - 0s 10ms/step - loss: 307.5595 - val_loss: 1036.8545\n",
      "Epoch 100/100\n",
      "21/21 [==============================] - 0s 10ms/step - loss: 312.2854 - val_loss: 920.8934\n"
     ]
    },
    {
     "data": {
      "text/plain": [
       "<keras.callbacks.History at 0x13b2411f730>"
      ]
     },
     "execution_count": 236,
     "metadata": {},
     "output_type": "execute_result"
    }
   ],
   "source": [
    "model.fit(x=train_windows, y=train_labels,\n",
    "         batch_size=128, epochs=100,\n",
    "         validation_data=(test_windows, test_labels),\n",
    "         callbacks=[checkpoint_callback])"
   ]
  },
  {
   "cell_type": "code",
   "execution_count": 237,
   "id": "e320476c",
   "metadata": {},
   "outputs": [
    {
     "name": "stdout",
     "output_type": "stream",
     "text": [
      "15/15 [==============================] - 0s 6ms/step - loss: 920.8932\n"
     ]
    },
    {
     "data": {
      "text/plain": [
       "920.8931884765625"
      ]
     },
     "execution_count": 237,
     "metadata": {},
     "output_type": "execute_result"
    }
   ],
   "source": [
    "model.evaluate(test_windows, test_labels)"
   ]
  },
  {
   "cell_type": "code",
   "execution_count": 238,
   "id": "100a56fa",
   "metadata": {},
   "outputs": [
    {
     "name": "stdout",
     "output_type": "stream",
     "text": [
      "WARNING:tensorflow:Layer lstm_15 will not use cuDNN kernels since it doesn't meet the criteria. It will use a generic GPU kernel as fallback when running on GPU.\n"
     ]
    },
    {
     "name": "stderr",
     "output_type": "stream",
     "text": [
      "WARNING:tensorflow:Layer lstm_15 will not use cuDNN kernels since it doesn't meet the criteria. It will use a generic GPU kernel as fallback when running on GPU.\n"
     ]
    },
    {
     "name": "stdout",
     "output_type": "stream",
     "text": [
      "15/15 [==============================] - 0s 5ms/step - loss: 842.8082\n"
     ]
    },
    {
     "data": {
      "text/plain": [
       "842.8081665039062"
      ]
     },
     "execution_count": 238,
     "metadata": {},
     "output_type": "execute_result"
    }
   ],
   "source": [
    "# Load the best fit model\n",
    "model = tf.keras.models.load_model(\"models/bitcoin_model/\")\n",
    "model.evaluate(test_windows, test_labels)"
   ]
  },
  {
   "cell_type": "code",
   "execution_count": 263,
   "id": "ed5fe046",
   "metadata": {},
   "outputs": [
    {
     "name": "stdout",
     "output_type": "stream",
     "text": [
      "15/15 [==============================] - 0s 4ms/step\n"
     ]
    },
    {
     "data": {
      "text/plain": [
       "array([[56486.78 ],\n",
       "       [56301.008],\n",
       "       [56775.035],\n",
       "       [57567.875],\n",
       "       [59942.035],\n",
       "       [61029.57 ],\n",
       "       [61290.973],\n",
       "       [61919.125],\n",
       "       [63684.17 ],\n",
       "       [65165.594]], dtype=float32)"
      ]
     },
     "execution_count": 263,
     "metadata": {},
     "output_type": "execute_result"
    }
   ],
   "source": [
    "y_preds = model.predict(test_windows)\n",
    "y_preds[:10]"
   ]
  },
  {
   "cell_type": "code",
   "execution_count": 265,
   "id": "cfb1faf3",
   "metadata": {},
   "outputs": [
    {
     "data": {
      "text/plain": [
       "((453, 1), (453,))"
      ]
     },
     "execution_count": 265,
     "metadata": {},
     "output_type": "execute_result"
    }
   ],
   "source": [
    "y_preds.shape, test_labels.shape"
   ]
  },
  {
   "cell_type": "code",
   "execution_count": 276,
   "id": "54c77ae9",
   "metadata": {},
   "outputs": [],
   "source": [
    "def plot_data_time(y_true, y_preds):\n",
    "    import matplotlib.pyplot as plt\n",
    "    import seaborn as sns\n",
    "    y_preds = tf.squeeze(y_preds)\n",
    "    temp = {\"Actual\": y_true,\n",
    "           \"Predicted\": y_preds}\n",
    "    df = pd.DataFrame(temp)\n",
    "    sns.lineplot(df)\n",
    "    plt.xticks(rotation=45);    "
   ]
  },
  {
   "cell_type": "code",
   "execution_count": 277,
   "id": "7e0eba15",
   "metadata": {},
   "outputs": [
    {
     "data": {
      "image/png": "[encoded data removed]",
      "text/plain": [
       "<Figure size 640x480 with 1 Axes>"
      ]
     },
     "metadata": {},
     "output_type": "display_data"
    }
   ],
   "source": [
    "plot_data_time(test_labels, y_preds)"
   ]
  },
  {
   "cell_type": "code",
   "execution_count": 318,
   "id": "dc3de988",
   "metadata": {},
   "outputs": [],
   "source": [
    "from sklearn.metrics import mean_absolute_error, mean_absolute_percentage_error\n",
    "from sktime.performance_metrics.forecasting import MeanAbsoluteScaledError\n",
    "import numpy as np\n",
    "def all_metrics(y_true, y_preds, y_train):\n",
    "    \"\"\"y_true, y_preds, y_train\"\"\"\n",
    "    m = {}\n",
    "    m[\"MAE\"] = mean_absolute_error(y_true, y_preds)\n",
    "    m[\"MSE\"] = np.sqrt(mean_absolute_error(y_true, y_preds))\n",
    "    m[\"MAPE\"] = mean_absolute_percentage_error(y_true, y_preds)\n",
    "    y_train = pd.DataFrame(y_train)\n",
    "    y_preds = pd.DataFrame(y_preds)\n",
    "    mase = MeanAbsoluteScaledError()\n",
    "    m[\"MASE\"] = mase(y_true, y_preds, y_train=y_train)\n",
    "    return m"
   ]
  },
  {
   "cell_type": "code",
   "execution_count": 320,
   "id": "f92c3a09",
   "metadata": {},
   "outputs": [
    {
     "name": "stderr",
     "output_type": "stream",
     "text": [
      "C:\\Users\\Sykkuno\\AppData\\Local\\Programs\\Python\\Python39\\lib\\site-packages\\sktime\\performance_metrics\\forecasting\\_classes.py:411: UserWarning: y_pred and y_true do not have the same row index. This may indicate incorrect objects passed to the metric. Indices of y_true will be used for y_pred.\n",
      "  warn(\n",
      "C:\\Users\\Sykkuno\\AppData\\Local\\Programs\\Python\\Python39\\lib\\site-packages\\sktime\\performance_metrics\\forecasting\\_classes.py:422: UserWarning: y_pred and y_true do not have the same column index. This may indicate incorrect objects passed to the metric. Indices of y_true will be used for y_pred.\n",
      "  warn(\n"
     ]
    },
    {
     "data": {
      "text/plain": [
       "{'MAE': 842.8081,\n",
       " 'MSE': 29.031158,\n",
       " 'MAPE': 0.024835106,\n",
       " 'MASE': 1.0934731586663857}"
      ]
     },
     "execution_count": 320,
     "metadata": {},
     "output_type": "execute_result"
    }
   ],
   "source": [
    "model_evaluation = all_metrics(test_labels, y_preds, test_horizons)    \n",
    "model_evaluation"
   ]
  },
  {
   "cell_type": "code",
   "execution_count": null,
   "id": "37a7906c",
   "metadata": {},
   "outputs": [],
   "source": []
  },
  {
   "cell_type": "code",
   "execution_count": null,
   "id": "5acb5de4",
   "metadata": {},
   "outputs": [],
   "source": []
  },
  {
   "cell_type": "code",
   "execution_count": null,
   "id": "8944f47d",
   "metadata": {},
   "outputs": [],
   "source": []
  }
 ],
 "metadata": {
  "kernelspec": {
   "display_name": "Python 3 (ipykernel)",
   "language": "python",
   "name": "python3"
  },
  "language_info": {
   "codemirror_mode": {
    "name": "ipython",
    "version": 3
   },
   "file_extension": ".py",
   "mimetype": "text/x-python",
   "name": "python",
   "nbconvert_exporter": "python",
   "pygments_lexer": "ipython3",
   "version": "3.9.13"
  }
 },
 "nbformat": 4,
 "nbformat_minor": 5
}
